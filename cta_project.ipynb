{
 "cells": [
  {
   "cell_type": "code",
   "execution_count": 1,
   "id": "26889b40",
   "metadata": {
    "slideshow": {
     "slide_type": "skip"
    }
   },
   "outputs": [],
   "source": [
    "import os\n",
    "import pandas as pd\n",
    "from tqdm import tqdm\n",
    "import cv2\n",
    "import numpy as np\n",
    "from astropy.io import fits\n",
    "from astropy.wcs import WCS\n",
    "from astropy.coordinates import SkyCoord\n",
    "from astropy import units as u\n",
    "from matplotlib import pyplot as plt"
   ]
  },
  {
   "cell_type": "code",
   "execution_count": 2,
   "id": "cb9d1cdd",
   "metadata": {
    "slideshow": {
     "slide_type": "skip"
    }
   },
   "outputs": [],
   "source": [
    "import warnings\n",
    "from astropy.utils.exceptions import AstropyWarning\n",
    "warnings.simplefilter('ignore', category=AstropyWarning)"
   ]
  },
  {
   "cell_type": "markdown",
   "id": "68b89561",
   "metadata": {
    "slideshow": {
     "slide_type": "slide"
    }
   },
   "source": [
    "# Look at the dataset"
   ]
  },
  {
   "cell_type": "markdown",
   "id": "1f2df994",
   "metadata": {
    "slideshow": {
     "slide_type": "slide"
    }
   },
   "source": [
    "First of all let's start to read the dataset"
   ]
  },
  {
   "cell_type": "code",
   "execution_count": 3,
   "id": "95584575",
   "metadata": {
    "slideshow": {
     "slide_type": "fragment"
    }
   },
   "outputs": [],
   "source": [
    "base_folder = './data/dataset'\n",
    "data_folder_skymap = './data/dataset/skymaps'\n",
    "tmp_folder = './tmp'\n",
    "if not os.path.isdir(tmp_folder):\n",
    "    os.mkdir(tmp_folder)"
   ]
  },
  {
   "cell_type": "code",
   "execution_count": 4,
   "id": "52838219",
   "metadata": {
    "slideshow": {
     "slide_type": "fragment"
    }
   },
   "outputs": [
    {
     "data": {
      "text/html": [
       "<div>\n",
       "<style scoped>\n",
       "    .dataframe tbody tr th:only-of-type {\n",
       "        vertical-align: middle;\n",
       "    }\n",
       "\n",
       "    .dataframe tbody tr th {\n",
       "        vertical-align: top;\n",
       "    }\n",
       "\n",
       "    .dataframe thead th {\n",
       "        text-align: right;\n",
       "    }\n",
       "</style>\n",
       "<table border=\"1\" class=\"dataframe\">\n",
       "  <thead>\n",
       "    <tr style=\"text-align: right;\">\n",
       "      <th></th>\n",
       "      <th>File_name</th>\n",
       "      <th>Source-ra</th>\n",
       "      <th>Source-dec</th>\n",
       "      <th>N_sources</th>\n",
       "      <th>Label</th>\n",
       "    </tr>\n",
       "  </thead>\n",
       "  <tbody>\n",
       "    <tr>\n",
       "      <th>0</th>\n",
       "      <td>crab_sky00.fits</td>\n",
       "      <td>0.000000</td>\n",
       "      <td>0.000000</td>\n",
       "      <td>0</td>\n",
       "      <td>no</td>\n",
       "    </tr>\n",
       "    <tr>\n",
       "      <th>1</th>\n",
       "      <td>crab_sky01.fits</td>\n",
       "      <td>0.000000</td>\n",
       "      <td>0.000000</td>\n",
       "      <td>0</td>\n",
       "      <td>no</td>\n",
       "    </tr>\n",
       "    <tr>\n",
       "      <th>2</th>\n",
       "      <td>crab_sky02.fits</td>\n",
       "      <td>82.414278</td>\n",
       "      <td>24.671857</td>\n",
       "      <td>1</td>\n",
       "      <td>yes</td>\n",
       "    </tr>\n",
       "    <tr>\n",
       "      <th>3</th>\n",
       "      <td>crab_sky03.fits</td>\n",
       "      <td>0.000000</td>\n",
       "      <td>0.000000</td>\n",
       "      <td>0</td>\n",
       "      <td>no</td>\n",
       "    </tr>\n",
       "    <tr>\n",
       "      <th>4</th>\n",
       "      <td>crab_sky04.fits</td>\n",
       "      <td>81.586806</td>\n",
       "      <td>24.264234</td>\n",
       "      <td>1</td>\n",
       "      <td>yes</td>\n",
       "    </tr>\n",
       "  </tbody>\n",
       "</table>\n",
       "</div>"
      ],
      "text/plain": [
       "         File_name  Source-ra  Source-dec  N_sources Label\n",
       "0  crab_sky00.fits   0.000000    0.000000          0    no\n",
       "1  crab_sky01.fits   0.000000    0.000000          0    no\n",
       "2  crab_sky02.fits  82.414278   24.671857          1   yes\n",
       "3  crab_sky03.fits   0.000000    0.000000          0    no\n",
       "4  crab_sky04.fits  81.586806   24.264234          1   yes"
      ]
     },
     "execution_count": 4,
     "metadata": {},
     "output_type": "execute_result"
    }
   ],
   "source": [
    "df = pd.read_csv(base_folder+'/skymap_set.csv', index_col=False)\n",
    "df.head()"
   ]
  },
  {
   "cell_type": "markdown",
   "id": "02dd74a5",
   "metadata": {
    "slideshow": {
     "slide_type": "slide"
    }
   },
   "source": [
    "The function `fits2png` is used for converting a file **.fits** in a grayscale **.png** image. In order to work with a precise interval for pixel values [0..255]."
   ]
  },
  {
   "cell_type": "code",
   "execution_count": 5,
   "id": "dc7ea964",
   "metadata": {
    "slideshow": {
     "slide_type": "skip"
    }
   },
   "outputs": [],
   "source": [
    "def fits2png(img_fits, filename):\n",
    "    # take the data\n",
    "    old_img = img_fits.data\n",
    "    # extract the image shape\n",
    "    img_shape = old_img.shape[0]\n",
    "    # extract minimum and maximu pixel values\n",
    "    old_vmax = np.max(old_img)\n",
    "    old_vmin = np.min(old_img)\n",
    "    \n",
    "    # build the converted image starting by the pixel intensity values of the fits file\n",
    "    new_img = np.zeros((img_shape, img_shape))\n",
    "    # reconstructing it in the interval [0..255] (a grayscale image)\n",
    "    new_vmax = 255\n",
    "    new_vmin = 0\n",
    "    # formula for converting .fits pixel to .png\n",
    "    new_img = np.round( ( (old_img - old_vmin) / (old_vmax - old_vmin) ) * 255)\n",
    "    \n",
    "    # save the new .png image\n",
    "    name='./temp/'+filename.replace('.fits', '.png')\n",
    "    cv2.imwrite(name, new_img)\n",
    "    return new_img"
   ]
  },
  {
   "cell_type": "code",
   "execution_count": 6,
   "id": "4026a6a2",
   "metadata": {
    "slideshow": {
     "slide_type": "skip"
    }
   },
   "outputs": [],
   "source": [
    "def convertDataset(df,\n",
    "                   data_folder='./data/dataset',\n",
    "                   data_folder_skymap=None):\n",
    "    X = []\n",
    "    Y = []\n",
    "    filename = ''\n",
    "    for i in tqdm(range(len(df))):\n",
    "        curr = df.iloc[i]\n",
    "        # if the previous row was for the same file, let's skip the iteration\n",
    "        if filename == curr['File_name']:\n",
    "            continue\n",
    "        # otherwise save the current filename \n",
    "        filename = curr['File_name']\n",
    "        \n",
    "        # checks the path of the skymap file\n",
    "        if not data_folder_skymap == None:\n",
    "            skymap = data_folder_skymap + '/' + filename\n",
    "        else:\n",
    "            skymap = data_folder + '/' + filename\n",
    "        \n",
    "        # open the skymap\n",
    "        hdul = fits.open(skymap)\n",
    "        # and convert it from .fits to .png\n",
    "        X.append((fits2png(hdul[0].data, filename), skymap))\n",
    "        # close the skymap\n",
    "        hdul.close()\n",
    "        \n",
    "        # if it is present at least one gamma ray source\n",
    "        if curr['Label'] == 'yes':\n",
    "            # let's save all of them converting them in sky coordinates \n",
    "            sources = []\n",
    "            for j in range(curr['N_sources']):\n",
    "                sources.append(SkyCoord(df.iloc[i+j]['Source-ra'], \n",
    "                                        df.iloc[i+j]['Source-dec'], unit=u.deg))\n",
    "            Y.append((1, sources))\n",
    "        else:\n",
    "            Y.append((0, []))\n",
    "        \n",
    "    return (X, Y)"
   ]
  },
  {
   "cell_type": "markdown",
   "id": "19c4dccc",
   "metadata": {
    "slideshow": {
     "slide_type": "fragment"
    }
   },
   "source": [
    "Let's extract from our dataset the features from the output we would like to compute."
   ]
  },
  {
   "cell_type": "code",
   "execution_count": 7,
   "id": "e26143f9",
   "metadata": {
    "scrolled": true,
    "slideshow": {
     "slide_type": "fragment"
    }
   },
   "outputs": [
    {
     "name": "stderr",
     "output_type": "stream",
     "text": [
      "100%|██████████| 1271/1271 [02:31<00:00,  8.41it/s]\n"
     ]
    }
   ],
   "source": [
    "(X, y) = convertDataset(df, data_folder_skymap=data_folder_skymap)"
   ]
  },
  {
   "cell_type": "markdown",
   "id": "10124295",
   "metadata": {
    "slideshow": {
     "slide_type": "slide"
    }
   },
   "source": [
    "This histogram shows the _labels_ of the images, meaning the amount of images which hasn't and has got at least one source."
   ]
  },
  {
   "cell_type": "code",
   "execution_count": 8,
   "id": "7747a499",
   "metadata": {
    "scrolled": true,
    "slideshow": {
     "slide_type": "fragment"
    }
   },
   "outputs": [
    {
     "data": {
      "text/plain": [
       "<AxesSubplot:title={'center':'Labels histogram'}, xlabel='Label'>"
      ]
     },
     "execution_count": 8,
     "metadata": {},
     "output_type": "execute_result"
    },
    {
     "data": {
      "image/png": "[encoded data removed]",
      "text/plain": [
       "<Figure size 432x288 with 1 Axes>"
      ]
     },
     "metadata": {
      "needs_background": "light"
     },
     "output_type": "display_data"
    }
   ],
   "source": [
    "plt.title('Labels histogram')\n",
    "df.groupby(['File_name', 'Label'], as_index=False).count() \\\n",
    "  .groupby('Label')['Label'].count().plot.bar()"
   ]
  },
  {
   "cell_type": "markdown",
   "id": "1dba2810",
   "metadata": {
    "slideshow": {
     "slide_type": "slide"
    }
   },
   "source": [
    "## PCA for plotting data"
   ]
  },
  {
   "cell_type": "markdown",
   "id": "58196d45",
   "metadata": {
    "slideshow": {
     "slide_type": "fragment"
    }
   },
   "source": [
    "In this section it is possible visualize the dataset, by using Principal Component Analysis, by extracting 2 components."
   ]
  },
  {
   "cell_type": "code",
   "execution_count": 9,
   "id": "4508eabd",
   "metadata": {
    "slideshow": {
     "slide_type": "skip"
    }
   },
   "outputs": [],
   "source": [
    "from sklearn.decomposition import PCA"
   ]
  },
  {
   "cell_type": "markdown",
   "id": "0fcf96bd",
   "metadata": {
    "slideshow": {
     "slide_type": "fragment"
    }
   },
   "source": [
    "First of all it is important to flatten our images."
   ]
  },
  {
   "cell_type": "code",
   "execution_count": 10,
   "id": "644983a6",
   "metadata": {
    "slideshow": {
     "slide_type": "slide"
    }
   },
   "outputs": [
    {
     "data": {
      "text/plain": [
       "(1000, 250000)"
      ]
     },
     "execution_count": 10,
     "metadata": {},
     "output_type": "execute_result"
    }
   ],
   "source": [
    "X_flt = []\n",
    "for i in range(len(X)):\n",
    "    X_flt.append(X[i][0].flatten())\n",
    "X_flt = np.array(X_flt)\n",
    "X_flt.shape"
   ]
  },
  {
   "cell_type": "markdown",
   "id": "68e06f2d",
   "metadata": {
    "slideshow": {
     "slide_type": "slide"
    }
   },
   "source": [
    "Now we can proced by computing 2 principal components of them."
   ]
  },
  {
   "cell_type": "code",
   "execution_count": 11,
   "id": "7f91b9f9",
   "metadata": {
    "slideshow": {
     "slide_type": "fragment"
    }
   },
   "outputs": [
    {
     "data": {
      "text/plain": [
       "(1000, 2)"
      ]
     },
     "execution_count": 11,
     "metadata": {},
     "output_type": "execute_result"
    }
   ],
   "source": [
    "pca = PCA(2) # we need 2 principal components.\n",
    "X_tr = pca.fit_transform(X_flt)\n",
    "X_tr.shape"
   ]
  },
  {
   "cell_type": "markdown",
   "id": "4c330cc5",
   "metadata": {
    "slideshow": {
     "slide_type": "slide"
    }
   },
   "source": [
    "Finally here we can visualize data, divided by `Label`. _Blue dots_ for images without any sources (`Label=no`) and _red dots_ for images with at least one sources (`Label=yes`).\n",
    "\n",
    "Even if two principal components are not eanough to separate the our space with an efficient hyperplane, we can still see a coherence in the disposition of the images in the spacce.\n",
    "\n",
    "Maybe considering an higher number of principal components could be easier to perform a separation amoung the two classes."
   ]
  },
  {
   "cell_type": "code",
   "execution_count": 12,
   "id": "187f5ed2",
   "metadata": {
    "scrolled": true
   },
   "outputs": [
    {
     "data": {
      "image/png": "[encoded data removed]",
      "text/plain": [
       "<Figure size 504x288 with 2 Axes>"
      ]
     },
     "metadata": {
      "needs_background": "light"
     },
     "output_type": "display_data"
    }
   ],
   "source": [
    "plt.figure(figsize = (7,4))\n",
    "plt.title('Visualization of data using\\n2 principal component by PCA')\n",
    "plt.grid(True)\n",
    "c_map = plt.cm.get_cmap('jet', 2)\n",
    "plt.scatter(X_tr[:, 0], X_tr[:, 1], \n",
    "            s = 15, cmap=c_map, \n",
    "            c=[y[i][0] for i in range(len(y))])\n",
    "plt.colorbar()\n",
    "plt.xlabel('PC-1') , plt.ylabel('PC-2')\n",
    "plt.show()"
   ]
  },
  {
   "cell_type": "markdown",
   "id": "ce92e4f4",
   "metadata": {},
   "source": [
    "# Label classifier model"
   ]
  },
  {
   "cell_type": "markdown",
   "id": "11f5e8cf",
   "metadata": {},
   "source": [
    "First things first, we need to define a threshold which is able to identifying images with at least one source (`Label=yes`) and images without any sources (`Label=no`)."
   ]
  },
  {
   "cell_type": "markdown",
   "id": "2cdc26f7",
   "metadata": {},
   "source": [
    "## Preprocessing dataset"
   ]
  },
  {
   "cell_type": "markdown",
   "id": "db9ffe2b",
   "metadata": {},
   "source": [
    "Let's now split the dataset in training set and test set."
   ]
  },
  {
   "cell_type": "code",
   "execution_count": 13,
   "id": "a6313307",
   "metadata": {},
   "outputs": [],
   "source": [
    "from sklearn.model_selection import train_test_split"
   ]
  },
  {
   "cell_type": "code",
   "execution_count": 14,
   "id": "fa2ea286",
   "metadata": {},
   "outputs": [],
   "source": [
    "X_train, X_test, y_train, y_test = train_test_split(X, y, test_size=0.25, random_state=0)"
   ]
  },
  {
   "cell_type": "markdown",
   "id": "d58badd5",
   "metadata": {},
   "source": [
    "And split for both the dataset, the _data_ vector (`X_data_`) from the _file names_ vector (`X_file_`)."
   ]
  },
  {
   "cell_type": "code",
   "execution_count": 15,
   "id": "d1bd617b",
   "metadata": {},
   "outputs": [],
   "source": [
    "X_data_train = np.array([X_train[i][0] for i in range(len(X_train))])\n",
    "X_file_train = [X_train[i][1] for i in range(len(X_train))]"
   ]
  },
  {
   "cell_type": "code",
   "execution_count": 16,
   "id": "9a0cf236",
   "metadata": {},
   "outputs": [],
   "source": [
    "X_data_test = np.array([X_test[i][0] for i in range(len(X_test))]) \n",
    "X_file_test = [X_test[i][1] for i in range(len(X_test))]"
   ]
  },
  {
   "cell_type": "markdown",
   "id": "003ef5d5",
   "metadata": {},
   "source": [
    "Let's do the same for _labels_ vector (`y_label_`) and the _source's coordinates_ vector (`y_coord_`)."
   ]
  },
  {
   "cell_type": "code",
   "execution_count": 17,
   "id": "23ca9fdc",
   "metadata": {},
   "outputs": [],
   "source": [
    "y_label_train = [y_train[i][0] for i in range(len(y_train))]\n",
    "y_coord_train = [y_train[i][1] for i in range(len(y_train))]"
   ]
  },
  {
   "cell_type": "code",
   "execution_count": 18,
   "id": "1277f639",
   "metadata": {},
   "outputs": [],
   "source": [
    "y_label_test = [y_test[i][0] for i in range(len(y_test))]\n",
    "y_coord_test = [y_test[i][1] for i in range(len(y_test))]"
   ]
  },
  {
   "cell_type": "markdown",
   "id": "7c6fd622",
   "metadata": {},
   "source": [
    "### Threshold pseudo-automatic operator"
   ]
  },
  {
   "cell_type": "markdown",
   "id": "ba75f869",
   "metadata": {},
   "source": [
    "Then, we can start definying functions used for binararization the images, last step before to extract the centroids from images.\n",
    "\n",
    "Binarization is also used in order to discriminate amoung the two classes of `Label`."
   ]
  },
  {
   "cell_type": "code",
   "execution_count": 19,
   "id": "ac4fece5",
   "metadata": {},
   "outputs": [],
   "source": [
    "# this threshold is used for Label classification\n",
    "def threshIsPresent(img, eps=1):\n",
    "    return np.max(img)-eps\n",
    "\n",
    "# this function extract the pixel value which values amount corresponds to a given \n",
    "# percentage inside the histogram of the image\n",
    "def find_percentile_value(hist, percentile):\n",
    "    s = 0\n",
    "    idx = 0\n",
    "    total_pixel = np.sum(hist)\n",
    "    while(s < total_pixel*percentile/100):\n",
    "        s += hist[idx]\n",
    "        idx += 1\n",
    "    return idx\n",
    "\n",
    "# this threshold is used instead for extract sources centroids\n",
    "def threshExtractSource(img, p=90, c=10):\n",
    "    hist, bins = np.histogram(img.astype(np.uint8).flatten(),256,[0,256])\n",
    "    v = find_percentile_value(hist, p)\n",
    "    T = v + c\n",
    "    return T"
   ]
  },
  {
   "cell_type": "markdown",
   "id": "ffd9d86c",
   "metadata": {},
   "source": [
    "### Preprocessing function"
   ]
  },
  {
   "cell_type": "markdown",
   "id": "0d8e21d2",
   "metadata": {},
   "source": [
    "Preprocessing concerns of the following step:\n",
    "* _Gaussian filter_: in order to denoising the image;\n",
    "* _Gamma correction_: for intensity transformations;\n",
    "* _Binary segmentation_: by using thresholding operators. I prefered don't use automatic or adaptive methods because of the properties of the image. It is indeed a very noise and big shape image, where the amount of pixels due to the noise is higher respect to the pixels of sources, resulting in an image which is not clairly bimodal."
   ]
  },
  {
   "cell_type": "code",
   "execution_count": 20,
   "id": "34d20b39",
   "metadata": {},
   "outputs": [],
   "source": [
    "import cv2"
   ]
  },
  {
   "cell_type": "code",
   "execution_count": 21,
   "id": "4eaa75c7",
   "metadata": {},
   "outputs": [],
   "source": [
    "def preprocess(X,\n",
    "               f_treshold, \n",
    "               sigma=3.5,\n",
    "               k_gs_size=-1,\n",
    "               alpha_power=1):\n",
    "    X1 = np.copy(X)\n",
    "    if k_gs_size==-1:\n",
    "        k_gs_size = int(np.ceil((3*sigma))*2+1)\n",
    "    # Gaussian blur\n",
    "    X1 = cv2.GaussianBlur(X1, (k_gs_size,k_gs_size), sigma)\n",
    "    # Gamma correction\n",
    "    X1 = cv2.convertScaleAbs(X1, alpha=alpha_power)\n",
    "    # Computing the threshold\n",
    "    T = f_treshold(X1)\n",
    "    # Binary segmentation\n",
    "    ret2, X1 = cv2.threshold(X1,T,255,cv2.THRESH_BINARY)\n",
    "    return X1"
   ]
  },
  {
   "cell_type": "markdown",
   "id": "788300d8",
   "metadata": {},
   "source": [
    "### 2 different kind of preprocessing"
   ]
  },
  {
   "cell_type": "markdown",
   "id": "b3b8ea1d",
   "metadata": {},
   "source": [
    "About preprocessing, I designed a parametric function for preprocess which can be splitted two different classes:\n",
    "1. _preprocess for label classification_: in this case the preprocess is designed in a which allows me to extract at least one sources. Indeed the threshold applyied is `threshIsPresent` which extract only a range of pixel from a small window from the maximum value in the image pixels. In this step infact it is not important to understand how many sources there are, I would just know if there is or there isn't a source. In this way it is possible to allow the classifier to work easily.\n",
    "2. _preprocess for centroids extraction_: after checking there is at least a source inside the image, we would like to extract centroids of sources that inside it. In order to complete this task, it is applyed to the original image a different preprocessing which instead use the threshold computed by  `threshExtractSource`. In this case I try to extract pixels which appartain only to all the sources of gamma ray inside image, considering a percentage of pixels value inside image histograms. N.B.: I couldn't use the above threshold, due to the fact that the previous one is focused to extract _at least one_ source, and this is because of the pixel selection window from the maximum value. Indeed using the same previous threshold would have involved, in images with a lot number gamma ray sources but with someone with a low intensity, in misdetecting low intesity sources. Consequently, a huge amount of _False Negative_."
   ]
  },
  {
   "cell_type": "code",
   "execution_count": 22,
   "id": "cf28669f",
   "metadata": {},
   "outputs": [],
   "source": [
    "sigma=6\n",
    "k_gs_size=15\n",
    "p=98\n",
    "eps_seg=15\n",
    "alpha_power=1\n",
    "\n",
    "# preproces lambda function definition for label classification, \n",
    "# implementing threshIsPresent with epsilon value equal to eps_seg\n",
    "preprocess_SVM = lambda x: preprocess(x,\n",
    "                                      lambda x: threshIsPresent(x, eps=eps_seg),\n",
    "                                      sigma=sigma, \n",
    "                                      k_gs_size=k_gs_size,\n",
    "                                      alpha_power=alpha_power)\n",
    "\n",
    "# preproces lambda function definition for sources extraction, \n",
    "# implementing threshExtractSource with percentage value equal to 98%\n",
    "preprocess_EXS = lambda x: preprocess(x,\n",
    "                                      lambda x: threshExtractSource(x, p=p),\n",
    "                                      sigma=sigma, \n",
    "                                      k_gs_size=k_gs_size,\n",
    "                                      alpha_power=alpha_power)"
   ]
  },
  {
   "cell_type": "markdown",
   "id": "8c730dfd",
   "metadata": {},
   "source": [
    "### Preprocess"
   ]
  },
  {
   "cell_type": "markdown",
   "id": "7fb270e3",
   "metadata": {},
   "source": [
    "Let's proced now by preprocessing images and saving them in new vectors.\n",
    "\n",
    "Like said before, in this step we are just approaching the classification task. For this reason we are going to use the first kind of preprocessing."
   ]
  },
  {
   "cell_type": "code",
   "execution_count": 23,
   "id": "7438d126",
   "metadata": {},
   "outputs": [
    {
     "data": {
      "text/plain": [
       "(750, 500, 500)"
      ]
     },
     "execution_count": 23,
     "metadata": {},
     "output_type": "execute_result"
    }
   ],
   "source": [
    "X_pp_train = []\n",
    "for i in range(len(X_train)):\n",
    "    X_pp_train.append(preprocess_SVM(X_data_train[i]))\n",
    "X_pp_train = np.array(X_pp_train)\n",
    "X_pp_train.shape"
   ]
  },
  {
   "cell_type": "code",
   "execution_count": 24,
   "id": "05d5d143",
   "metadata": {},
   "outputs": [
    {
     "data": {
      "text/plain": [
       "(250, 500, 500)"
      ]
     },
     "execution_count": 24,
     "metadata": {},
     "output_type": "execute_result"
    }
   ],
   "source": [
    "X_pp_test = []\n",
    "for i in range(len(X_test)):\n",
    "    X_pp_test.append(preprocess_SVM(X_data_test[i]))\n",
    "X_pp_test = np.array(X_pp_test)\n",
    "X_pp_test.shape"
   ]
  },
  {
   "cell_type": "markdown",
   "id": "c6ee6e7a",
   "metadata": {},
   "source": [
    "Like before, let's flatten preprocessed data and not preprocessed data"
   ]
  },
  {
   "cell_type": "code",
   "execution_count": 25,
   "id": "1b8e1b86",
   "metadata": {},
   "outputs": [],
   "source": [
    "def flattening(Z):\n",
    "    z_fl = []\n",
    "    for i in range(len(Z)):\n",
    "        z_fl.append(Z[i].flatten())\n",
    "    return np.array(z_fl)"
   ]
  },
  {
   "cell_type": "code",
   "execution_count": 26,
   "id": "19416724",
   "metadata": {},
   "outputs": [
    {
     "data": {
      "text/plain": [
       "(750, 250000)"
      ]
     },
     "execution_count": 26,
     "metadata": {},
     "output_type": "execute_result"
    }
   ],
   "source": [
    "X_train_fl = flattening(X_data_train)\n",
    "X_train_fl.shape"
   ]
  },
  {
   "cell_type": "code",
   "execution_count": 27,
   "id": "004199d7",
   "metadata": {},
   "outputs": [
    {
     "data": {
      "text/plain": [
       "(750, 250000)"
      ]
     },
     "execution_count": 27,
     "metadata": {},
     "output_type": "execute_result"
    }
   ],
   "source": [
    "X_pp_train_fl = flattening(X_pp_train)\n",
    "X_pp_train_fl.shape"
   ]
  },
  {
   "cell_type": "code",
   "execution_count": 28,
   "id": "d9f32979",
   "metadata": {},
   "outputs": [
    {
     "data": {
      "text/plain": [
       "(250, 250000)"
      ]
     },
     "execution_count": 28,
     "metadata": {},
     "output_type": "execute_result"
    }
   ],
   "source": [
    "X_test_fl = flattening(X_data_test)\n",
    "X_test_fl.shape"
   ]
  },
  {
   "cell_type": "code",
   "execution_count": 29,
   "id": "47e7cc81",
   "metadata": {},
   "outputs": [
    {
     "data": {
      "text/plain": [
       "(250, 250000)"
      ]
     },
     "execution_count": 29,
     "metadata": {},
     "output_type": "execute_result"
    }
   ],
   "source": [
    "X_pp_test_fl = flattening(X_pp_test)\n",
    "X_pp_test_fl.shape"
   ]
  },
  {
   "cell_type": "markdown",
   "id": "e8c84bb4",
   "metadata": {},
   "source": [
    "In order to achieve an easier learning for label classification, let's apply a pca transformation to our data, by extracting 10 principal components. "
   ]
  },
  {
   "cell_type": "code",
   "execution_count": 30,
   "id": "75f9e380",
   "metadata": {},
   "outputs": [],
   "source": [
    "pca_n_components=10"
   ]
  },
  {
   "cell_type": "code",
   "execution_count": 31,
   "id": "511023d4",
   "metadata": {},
   "outputs": [
    {
     "data": {
      "text/plain": [
       "(750, 10)"
      ]
     },
     "execution_count": 31,
     "metadata": {},
     "output_type": "execute_result"
    }
   ],
   "source": [
    "pca = PCA(pca_n_components)\n",
    "X_pca_train    = pca.fit_transform(X_train_fl)\n",
    "X_pca_train.shape"
   ]
  },
  {
   "cell_type": "code",
   "execution_count": 32,
   "id": "87240431",
   "metadata": {},
   "outputs": [
    {
     "data": {
      "text/plain": [
       "(250, 10)"
      ]
     },
     "execution_count": 32,
     "metadata": {},
     "output_type": "execute_result"
    }
   ],
   "source": [
    "X_pca_test = pca.transform(X_test_fl)\n",
    "X_pca_test.shape"
   ]
  },
  {
   "cell_type": "code",
   "execution_count": 33,
   "id": "f1ffa7b9",
   "metadata": {},
   "outputs": [
    {
     "data": {
      "text/plain": [
       "(750, 10)"
      ]
     },
     "execution_count": 33,
     "metadata": {},
     "output_type": "execute_result"
    }
   ],
   "source": [
    "pca = PCA(pca_n_components)\n",
    "X_pca_train_pp = pca.fit_transform(X_pp_train_fl)\n",
    "X_pca_train.shape"
   ]
  },
  {
   "cell_type": "code",
   "execution_count": 34,
   "id": "49af8b3f",
   "metadata": {},
   "outputs": [
    {
     "data": {
      "text/plain": [
       "(250, 10)"
      ]
     },
     "execution_count": 34,
     "metadata": {},
     "output_type": "execute_result"
    }
   ],
   "source": [
    "X_pca_test_pp = pca.transform(X_pp_test_fl)\n",
    "X_pca_test_pp.shape"
   ]
  },
  {
   "cell_type": "code",
   "execution_count": 35,
   "id": "7f5ceea4",
   "metadata": {},
   "outputs": [
    {
     "data": {
      "text/plain": [
       "(750, 500, 500)"
      ]
     },
     "execution_count": 35,
     "metadata": {},
     "output_type": "execute_result"
    }
   ],
   "source": [
    "X_data_train.shape"
   ]
  },
  {
   "cell_type": "markdown",
   "id": "5e77b375",
   "metadata": {},
   "source": [
    "## SVM"
   ]
  },
  {
   "cell_type": "markdown",
   "id": "3dc2036b",
   "metadata": {},
   "source": [
    "Let's now implement our classifier, which corresponds to a simple Support Vector Machine. The choise is due to the visualization showed in [Section 1.1](#PCA-for-plotting-data). Indeed SVM with 10 principal components succeeds to define an hyperplane for discriminate labels."
   ]
  },
  {
   "cell_type": "code",
   "execution_count": 36,
   "id": "bf5cbd73",
   "metadata": {},
   "outputs": [],
   "source": [
    "from sklearn import svm\n",
    "from sklearn.model_selection import GridSearchCV\n",
    "from sklearn.metrics import accuracy_score\n",
    "from sklearn.metrics import confusion_matrix, ConfusionMatrixDisplay\n",
    "from sklearn.preprocessing import LabelEncoder"
   ]
  },
  {
   "cell_type": "markdown",
   "id": "3b6f9679",
   "metadata": {},
   "source": [
    "Model gridsearch definition for SVM."
   ]
  },
  {
   "cell_type": "code",
   "execution_count": 37,
   "id": "2c1121e8",
   "metadata": {},
   "outputs": [],
   "source": [
    "param_grid={\n",
    "    'C':[0.1, 0.5, 1, 10],\n",
    "    'gamma':[1e-8, 1e-7, 1e-6, 1e-5, 1e-4, 1e-3, 1e-2, 1e-1],\n",
    "    'kernel':['rbf']\n",
    "}\n",
    "svc=svm.SVC(probability=True)\n",
    "model=GridSearchCV(svc, param_grid)"
   ]
  },
  {
   "cell_type": "markdown",
   "id": "11348215",
   "metadata": {},
   "source": [
    "Fitting the model. Let's start from data not preprocessed."
   ]
  },
  {
   "cell_type": "code",
   "execution_count": 38,
   "id": "b066bd10",
   "metadata": {},
   "outputs": [
    {
     "name": "stdout",
     "output_type": "stream",
     "text": [
      "The Model is trained well with the given images\n"
     ]
    },
    {
     "data": {
      "text/plain": [
       "{'C': 1, 'gamma': 1e-08, 'kernel': 'rbf'}"
      ]
     },
     "execution_count": 38,
     "metadata": {},
     "output_type": "execute_result"
    }
   ],
   "source": [
    "model.fit(X_pca_train, y_label_train)\n",
    "print('The Model is trained well with the given images')\n",
    "model.best_params_"
   ]
  },
  {
   "cell_type": "code",
   "execution_count": 39,
   "id": "db72687a",
   "metadata": {},
   "outputs": [
    {
     "name": "stdout",
     "output_type": "stream",
     "text": [
      "Train set accuracy: 0.932\n",
      "Test set accuracy : 0.892\n"
     ]
    }
   ],
   "source": [
    "y_label_train_pred = model.predict(X_pca_train)\n",
    "train_acc = accuracy_score(y_label_train, y_label_train_pred)\n",
    "print(\"Train set accuracy:\", train_acc)\n",
    "y_label_test_pred = model.predict(X_pca_test)\n",
    "test_acc = accuracy_score(y_label_test, y_label_test_pred)\n",
    "print(\"Test set accuracy :\", test_acc)"
   ]
  },
  {
   "cell_type": "markdown",
   "id": "453edede",
   "metadata": {},
   "source": [
    "Let's save the results."
   ]
  },
  {
   "cell_type": "code",
   "execution_count": 40,
   "id": "cbe883d3",
   "metadata": {},
   "outputs": [],
   "source": [
    "models_result = []\n",
    "models_result.append(['SVM',train_acc, test_acc])"
   ]
  },
  {
   "cell_type": "markdown",
   "id": "3fa87915",
   "metadata": {},
   "source": [
    "Following there is the confusion matrix of the test set for `Label` prediciton. As we can see the results are not so much good, but this is due to the fact we are not adding preprocessing in our classification."
   ]
  },
  {
   "cell_type": "code",
   "execution_count": 41,
   "id": "665899b1",
   "metadata": {},
   "outputs": [
    {
     "data": {
      "image/png": "[encoded data removed]",
      "text/plain": [
       "<Figure size 360x360 with 2 Axes>"
      ]
     },
     "metadata": {
      "needs_background": "light"
     },
     "output_type": "display_data"
    }
   ],
   "source": [
    "# Confusion matrix of Label results\n",
    "fig, ax=plt.subplots(1,1,figsize=(5,5))\n",
    "plt.grid(False)\n",
    "# Plot the confusion matrix normalizing over the true values (over the rows)\n",
    "cm = confusion_matrix(y_label_test, y_label_test_pred, normalize='true')\n",
    "disp = ConfusionMatrixDisplay(confusion_matrix=cm, display_labels=['no', 'yes'])\n",
    "disp.plot(ax=ax, cmap='viridis')\n",
    "plt.title('Confusion Matrix of\\nLabel Prediction (Test set)')\n",
    "plt.show()"
   ]
  },
  {
   "cell_type": "markdown",
   "id": "a26c4d22",
   "metadata": {},
   "source": [
    "### Dataset Preprocessed"
   ]
  },
  {
   "cell_type": "markdown",
   "id": "49480fe4",
   "metadata": {},
   "source": [
    "Now let's try instead to work with preprocessed data."
   ]
  },
  {
   "cell_type": "code",
   "execution_count": 42,
   "id": "7fe6aace",
   "metadata": {},
   "outputs": [
    {
     "name": "stdout",
     "output_type": "stream",
     "text": [
      "The Model is trained well with the given images\n"
     ]
    },
    {
     "data": {
      "text/plain": [
       "{'C': 0.1, 'gamma': 1e-08, 'kernel': 'rbf'}"
      ]
     },
     "execution_count": 42,
     "metadata": {},
     "output_type": "execute_result"
    }
   ],
   "source": [
    "model.fit(X_pca_train_pp, y_label_train)\n",
    "print('The Model is trained well with the given images')\n",
    "model.best_params_"
   ]
  },
  {
   "cell_type": "markdown",
   "id": "fd80a32a",
   "metadata": {},
   "source": [
    "Just by looking at the accuracy we can see big improvements."
   ]
  },
  {
   "cell_type": "code",
   "execution_count": 43,
   "id": "d56070a2",
   "metadata": {},
   "outputs": [
    {
     "name": "stdout",
     "output_type": "stream",
     "text": [
      "Train set accuracy: 0.996\n",
      "Test set accuracy : 1.0\n"
     ]
    }
   ],
   "source": [
    "y_label_train_pred = model.predict(X_pca_train_pp)\n",
    "train_acc = accuracy_score(y_label_train, y_label_train_pred)\n",
    "print(\"Train set accuracy:\", train_acc)\n",
    "y_label_test_pred = model.predict(X_pca_test_pp)\n",
    "test_acc = accuracy_score(y_label_test, y_label_test_pred)\n",
    "print(\"Test set accuracy :\", test_acc)"
   ]
  },
  {
   "cell_type": "markdown",
   "id": "bb982a39",
   "metadata": {},
   "source": [
    "Let's save the results."
   ]
  },
  {
   "cell_type": "code",
   "execution_count": 44,
   "id": "ac68daa1",
   "metadata": {},
   "outputs": [],
   "source": [
    "models_result.append(['SVM (Preprocessed)',train_acc, test_acc])"
   ]
  },
  {
   "cell_type": "markdown",
   "id": "0caa2c6b",
   "metadata": {},
   "source": [
    "Here we can look at the confusion matrix."
   ]
  },
  {
   "cell_type": "code",
   "execution_count": 45,
   "id": "a76223d3",
   "metadata": {},
   "outputs": [
    {
     "data": {
      "image/png": "[encoded data removed]",
      "text/plain": [
       "<Figure size 360x360 with 2 Axes>"
      ]
     },
     "metadata": {
      "needs_background": "light"
     },
     "output_type": "display_data"
    }
   ],
   "source": [
    "# Confusion matrix of Label results\n",
    "fig, ax=plt.subplots(1,1,figsize=(5,5))\n",
    "plt.grid(False)\n",
    "# Plot the confusion matrix normalizing over the true values (over the rows)\n",
    "cm = confusion_matrix(y_label_test, y_label_test_pred, normalize='true')\n",
    "disp = ConfusionMatrixDisplay(confusion_matrix=cm, display_labels=['no', 'yes'])\n",
    "disp.plot(ax=ax, cmap='viridis')\n",
    "plt.title('Confusion Matrix of\\nLabel Prediction\\n(Test set - Preprocessed data)')\n",
    "plt.show()"
   ]
  },
  {
   "cell_type": "markdown",
   "id": "0df6b46d",
   "metadata": {},
   "source": [
    "## Model results"
   ]
  },
  {
   "cell_type": "markdown",
   "id": "17cf74d6",
   "metadata": {},
   "source": [
    "As expected, results show the high improvements for label classification simply adding preprocessing."
   ]
  },
  {
   "cell_type": "code",
   "execution_count": 46,
   "id": "4c23cfc2",
   "metadata": {},
   "outputs": [
    {
     "data": {
      "text/html": [
       "<div>\n",
       "<style scoped>\n",
       "    .dataframe tbody tr th:only-of-type {\n",
       "        vertical-align: middle;\n",
       "    }\n",
       "\n",
       "    .dataframe tbody tr th {\n",
       "        vertical-align: top;\n",
       "    }\n",
       "\n",
       "    .dataframe thead th {\n",
       "        text-align: right;\n",
       "    }\n",
       "</style>\n",
       "<table border=\"1\" class=\"dataframe\">\n",
       "  <thead>\n",
       "    <tr style=\"text-align: right;\">\n",
       "      <th></th>\n",
       "      <th>Model</th>\n",
       "      <th>Train accuracy</th>\n",
       "      <th>Test accuracy</th>\n",
       "    </tr>\n",
       "  </thead>\n",
       "  <tbody>\n",
       "    <tr>\n",
       "      <th>0</th>\n",
       "      <td>SVM</td>\n",
       "      <td>0.932</td>\n",
       "      <td>0.892</td>\n",
       "    </tr>\n",
       "    <tr>\n",
       "      <th>1</th>\n",
       "      <td>SVM (Preprocessed)</td>\n",
       "      <td>0.996</td>\n",
       "      <td>1.000</td>\n",
       "    </tr>\n",
       "  </tbody>\n",
       "</table>\n",
       "</div>"
      ],
      "text/plain": [
       "                Model  Train accuracy  Test accuracy\n",
       "0                 SVM           0.932          0.892\n",
       "1  SVM (Preprocessed)           0.996          1.000"
      ]
     },
     "execution_count": 46,
     "metadata": {},
     "output_type": "execute_result"
    }
   ],
   "source": [
    "pd.DataFrame(data = models_result, columns=['Model', 'Train accuracy', 'Test accuracy'])"
   ]
  },
  {
   "cell_type": "markdown",
   "id": "907adb77",
   "metadata": {},
   "source": [
    "# Save and Read model"
   ]
  },
  {
   "cell_type": "markdown",
   "id": "a1d8b984",
   "metadata": {},
   "source": [
    "## Saving best model"
   ]
  },
  {
   "cell_type": "markdown",
   "id": "aba2c88e",
   "metadata": {},
   "source": [
    "Let's save only the last model which is the best one (more accurate in the test set with 0 to 3 sources)"
   ]
  },
  {
   "cell_type": "code",
   "execution_count": 47,
   "id": "695aaf5c",
   "metadata": {},
   "outputs": [],
   "source": [
    "# import joblib"
   ]
  },
  {
   "cell_type": "code",
   "execution_count": 48,
   "id": "cf096c2f",
   "metadata": {},
   "outputs": [],
   "source": [
    "# joblib.dump(model, 'thresholdModel.pkl')"
   ]
  },
  {
   "cell_type": "code",
   "execution_count": 49,
   "id": "19351942",
   "metadata": {},
   "outputs": [],
   "source": [
    "# joblib.dump(pca, 'pca_for_thresholdModel.pkl')"
   ]
  },
  {
   "cell_type": "markdown",
   "id": "6380c7af",
   "metadata": {},
   "source": [
    "## Read model"
   ]
  },
  {
   "cell_type": "code",
   "execution_count": 50,
   "id": "9c11da94",
   "metadata": {},
   "outputs": [],
   "source": [
    "# model = joblib.load('thresholdModel.pkl')\n",
    "# pca = joblib.load('pca_for_thresholdModel.pkl')"
   ]
  },
  {
   "cell_type": "markdown",
   "id": "797f121a",
   "metadata": {},
   "source": [
    "# Centroid Extractor Model "
   ]
  },
  {
   "cell_type": "code",
   "execution_count": 51,
   "id": "d127e573",
   "metadata": {},
   "outputs": [
    {
     "data": {
      "image/png": "[encoded data removed]",
      "text/plain": [
       "<Figure size 432x288 with 1 Axes>"
      ]
     },
     "metadata": {
      "needs_background": "light"
     },
     "output_type": "display_data"
    }
   ],
   "source": [
    "plt.title('Histogram for number of sources')\n",
    "plt.ylabel('Number of samples')\n",
    "df.groupby(['File_name', 'N_sources'], as_index=False).count() \\\n",
    "  .groupby('N_sources')['N_sources'].count()                   \\\n",
    "  .plot.bar()\n",
    "plt.show()"
   ]
  },
  {
   "cell_type": "markdown",
   "id": "ce4382df",
   "metadata": {},
   "source": [
    "This function returns simply a boolean value which tells us if it is or it is not present at least one source. This is done by using the model presented before."
   ]
  },
  {
   "cell_type": "code",
   "execution_count": 52,
   "id": "f938ebcb",
   "metadata": {},
   "outputs": [],
   "source": [
    "def containsSource(X_preprocessed):\n",
    "    # data preprocessed are flattened\n",
    "    X_flt = X_preprocessed.reshape(1, -1)\n",
    "    # using pca model, transform the data flattened\n",
    "    X_pca = pca.transform(X_flt)\n",
    "    # return the prediction in boolean form\n",
    "    # [0] is added because predict return a list of prediction\n",
    "    return (model.predict(X_pca) == 1)[0]"
   ]
  },
  {
   "cell_type": "markdown",
   "id": "02af1ee4",
   "metadata": {},
   "source": [
    "Following it is defigned the function for extract centroid from an image binarized. This is done, first of all by extracting contours and then, for each of them, computing its _moments_."
   ]
  },
  {
   "cell_type": "code",
   "execution_count": 53,
   "id": "782831d9",
   "metadata": {},
   "outputs": [],
   "source": [
    "def findCentroid(X_pp, hdul):\n",
    "    # extracts the contours from the image preprocessed\n",
    "    contours = cv2.findContours(X_pp, cv2.RETR_TREE, cv2.CHAIN_APPROX_SIMPLE)[1]\n",
    "    centroids = []\n",
    "    for c in contours:\n",
    "        # compute the moments up to the third order of the contours of the image\n",
    "        M = cv2.moments(c)\n",
    "        if M[\"m00\"] != 0:\n",
    "            # calculate x,y coordinate of centroid for the current contour\n",
    "            cX = int(M[\"m10\"] / M[\"m00\"])\n",
    "            cY = int(M[\"m01\"] / M[\"m00\"])\n",
    "            # get the skymap header\n",
    "            wcs = WCS(hdul[0].header)\n",
    "            # convert the pixel integer coordinates in astronomycal coordinates \n",
    "            wcs_coords = wcs.pixel_to_world(cX, cY)\n",
    "            centroids.append(wcs_coords)\n",
    "    return centroids"
   ]
  },
  {
   "cell_type": "markdown",
   "id": "67006430",
   "metadata": {},
   "source": [
    "This following function computes the centroid if and only if the image si classified as having at least one source otherwise it returns an empty list."
   ]
  },
  {
   "cell_type": "code",
   "execution_count": 54,
   "id": "ff35b4a2",
   "metadata": {},
   "outputs": [],
   "source": [
    "def getCentroids(X, hdul):\n",
    "    # checks if the image X contains at least one source, \n",
    "    # preprocess_SVM is applyed for this task\n",
    "    if containsSource(preprocess_SVM(X)):\n",
    "        # extract sources' centroids, preprocess preprocess_EXS \n",
    "        # is applyied \n",
    "        return findCentroid(preprocess_EXS(X), hdul)\n",
    "    else:\n",
    "        return[]"
   ]
  },
  {
   "cell_type": "markdown",
   "id": "43ab2a75",
   "metadata": {},
   "source": [
    "Here we can see the defintion of the function used for computing the prediction error for predicted and real coordinates. For this goal `separation` from module `astropy` is used.\n",
    "\n",
    "The function returns \n",
    "* the list of prediction angular errors between sources predicted and real matched (`angular_err`);\n",
    "* the list of number of mismatch errors, namely the amount of real sources which have not a correspondence in predicted list (False Negative - FN) + the amount of predicted  sources which have not a correspondance in the real sources (False Positive - FP) (`mismatch_err`);\n",
    "* the list <predicted source, real source, file name> (`results`)."
   ]
  },
  {
   "cell_type": "code",
   "execution_count": 55,
   "id": "f2741729",
   "metadata": {},
   "outputs": [],
   "source": [
    "def angularError(cntr_true, cntr_pred):\n",
    "    # let's copy both the list\n",
    "    cntr_pred1 = cntr_pred.copy()\n",
    "    cntr_true1 = cntr_true.copy()\n",
    "    # intializes the outputs\n",
    "    mismatch_err = 0\n",
    "    angular_err  = []\n",
    "    results = []\n",
    "    # iterates from the start of the list of predicted sources until one of the two\n",
    "    # list of sources doesn't allow a match amoung their element\n",
    "    i = 0\n",
    "    F_esc = False\n",
    "    while (i<len(cntr_pred)) and (not (F_esc)):\n",
    "        l = []\n",
    "        # select the current predicted source centroid\n",
    "        cpred = cntr_pred[i]\n",
    "        # iterates over all the remained real centroid in the copied list\n",
    "        for ctrue in cntr_true1:\n",
    "            # memorizes the predicted angular error between predicted and \n",
    "            # real sources' centroids\n",
    "            l.append(cpred.separation(ctrue).radian)\n",
    "        # if the list of matches is not empty\n",
    "        if not len == []:\n",
    "            # searches the minimum distance amoung real-predicted sources' centroid\n",
    "            id_match = np.argmin(l)\n",
    "            best_sep = l[id_match]\n",
    "            # saves the best distance and couple real-predicted sources' centroid \n",
    "            angular_err.append(best_sep)\n",
    "            results.append([cpred, cntr_true1[id_match], best_sep])\n",
    "            # remove the elements of the couple real-predicted sources' centroid  \n",
    "            # from their lists\n",
    "            cntr_true1.remove(cntr_true1[id_match])\n",
    "            cntr_pred1.remove(cpred)\n",
    "        # if one of the two list has not anymore centroids it means that there\n",
    "        # some mismatch so F_esc is update\n",
    "        F_esc = len(cntr_true1)*len(cntr_pred1) == 0\n",
    "        i += 1\n",
    "    # saves the absolute value of the difference between the two lists\n",
    "    mismatch_err = abs(len(cntr_pred) - len(cntr_true))\n",
    "    # adds the lines with None value for real centroid coordinates without match\n",
    "    # and None value for the prediction angular error\n",
    "    for ctrue in cntr_true1:\n",
    "        results.append([None, ctrue, None])\n",
    "    # adds the lines with None value for predicted centroid coordinates without\n",
    "    # match and None value for the prediction angular error\n",
    "    for cpred in cntr_pred1:\n",
    "        results.append([cpred, None, None])\n",
    "    return (angular_err, mismatch_err, results)"
   ]
  },
  {
   "cell_type": "markdown",
   "id": "1c1ddf31",
   "metadata": {},
   "source": [
    "Finally let's predict the centroids and the results of the prediction."
   ]
  },
  {
   "cell_type": "markdown",
   "id": "293148fb",
   "metadata": {},
   "source": [
    "## Results"
   ]
  },
  {
   "cell_type": "code",
   "execution_count": 56,
   "id": "302d7c9e",
   "metadata": {
    "scrolled": true
   },
   "outputs": [
    {
     "data": {
      "text/html": [
       "<div>\n",
       "<style scoped>\n",
       "    .dataframe tbody tr th:only-of-type {\n",
       "        vertical-align: middle;\n",
       "    }\n",
       "\n",
       "    .dataframe tbody tr th {\n",
       "        vertical-align: top;\n",
       "    }\n",
       "\n",
       "    .dataframe thead th {\n",
       "        text-align: right;\n",
       "    }\n",
       "</style>\n",
       "<table border=\"1\" class=\"dataframe\">\n",
       "  <thead>\n",
       "    <tr style=\"text-align: right;\">\n",
       "      <th></th>\n",
       "      <th>predCoords</th>\n",
       "      <th>trueCoords</th>\n",
       "      <th>predictionError</th>\n",
       "      <th>file</th>\n",
       "    </tr>\n",
       "  </thead>\n",
       "  <tbody>\n",
       "    <tr>\n",
       "      <th>0</th>\n",
       "      <td>&lt;SkyCoord (ICRS): (ra, dec) in deg\\n    (82.23...</td>\n",
       "      <td>&lt;SkyCoord (ICRS): (ra, dec) in deg\\n    (82.21...</td>\n",
       "      <td>0.000506</td>\n",
       "      <td>./data/dataset/skymaps/crab_sky993.fits</td>\n",
       "    </tr>\n",
       "    <tr>\n",
       "      <th>1</th>\n",
       "      <td>&lt;SkyCoord (ICRS): (ra, dec) in deg\\n    (84.76...</td>\n",
       "      <td>&lt;SkyCoord (ICRS): (ra, dec) in deg\\n    (84.74...</td>\n",
       "      <td>0.000307</td>\n",
       "      <td>./data/dataset/skymaps/crab_sky993.fits</td>\n",
       "    </tr>\n",
       "    <tr>\n",
       "      <th>2</th>\n",
       "      <td>&lt;SkyCoord (ICRS): (ra, dec) in deg\\n    (85.70...</td>\n",
       "      <td>&lt;SkyCoord (ICRS): (ra, dec) in deg\\n    (85.67...</td>\n",
       "      <td>0.000521</td>\n",
       "      <td>./data/dataset/skymaps/crab_sky993.fits</td>\n",
       "    </tr>\n",
       "    <tr>\n",
       "      <th>3</th>\n",
       "      <td>&lt;SkyCoord (ICRS): (ra, dec) in deg\\n    (84.63...</td>\n",
       "      <td>&lt;SkyCoord (ICRS): (ra, dec) in deg\\n    (84.64...</td>\n",
       "      <td>0.000153</td>\n",
       "      <td>./data/dataset/skymaps/crab_sky859.fits</td>\n",
       "    </tr>\n",
       "    <tr>\n",
       "      <th>4</th>\n",
       "      <td>&lt;SkyCoord (ICRS): (ra, dec) in deg\\n    (86.04...</td>\n",
       "      <td>&lt;SkyCoord (ICRS): (ra, dec) in deg\\n    (86.06...</td>\n",
       "      <td>0.000280</td>\n",
       "      <td>./data/dataset/skymaps/crab_sky859.fits</td>\n",
       "    </tr>\n",
       "  </tbody>\n",
       "</table>\n",
       "</div>"
      ],
      "text/plain": [
       "                                          predCoords  \\\n",
       "0  <SkyCoord (ICRS): (ra, dec) in deg\\n    (82.23...   \n",
       "1  <SkyCoord (ICRS): (ra, dec) in deg\\n    (84.76...   \n",
       "2  <SkyCoord (ICRS): (ra, dec) in deg\\n    (85.70...   \n",
       "3  <SkyCoord (ICRS): (ra, dec) in deg\\n    (84.63...   \n",
       "4  <SkyCoord (ICRS): (ra, dec) in deg\\n    (86.04...   \n",
       "\n",
       "                                          trueCoords  predictionError  \\\n",
       "0  <SkyCoord (ICRS): (ra, dec) in deg\\n    (82.21...         0.000506   \n",
       "1  <SkyCoord (ICRS): (ra, dec) in deg\\n    (84.74...         0.000307   \n",
       "2  <SkyCoord (ICRS): (ra, dec) in deg\\n    (85.67...         0.000521   \n",
       "3  <SkyCoord (ICRS): (ra, dec) in deg\\n    (84.64...         0.000153   \n",
       "4  <SkyCoord (ICRS): (ra, dec) in deg\\n    (86.06...         0.000280   \n",
       "\n",
       "                                      file  \n",
       "0  ./data/dataset/skymaps/crab_sky993.fits  \n",
       "1  ./data/dataset/skymaps/crab_sky993.fits  \n",
       "2  ./data/dataset/skymaps/crab_sky993.fits  \n",
       "3  ./data/dataset/skymaps/crab_sky859.fits  \n",
       "4  ./data/dataset/skymaps/crab_sky859.fits  "
      ]
     },
     "execution_count": 56,
     "metadata": {},
     "output_type": "execute_result"
    }
   ],
   "source": [
    "df_results = []\n",
    "msm = []\n",
    "y_coord_pred = []\n",
    "# iterates over all the data of the test set\n",
    "for i in range(len(X_data_test)):\n",
    "    # open the skymap\n",
    "    hdul = fits.open(X_file_test[i])\n",
    "    # extracts the centroids\n",
    "    coord_pred = getCentroids(X_data_test[i], hdul)\n",
    "    # close the skymap\n",
    "    hdul.close()\n",
    "    # add in a list the coordinates predicted\n",
    "    y_coord_pred.append(coord_pred)\n",
    "    # computes the angular error, the number of mismatches and the coordinates tuple \n",
    "    (angular_err, mismatch_err, results) = angularError(y_coord_test[i], coord_pred)\n",
    "    # saves the number of mismatches\n",
    "    msm.append(mismatch_err)\n",
    "    # saves the tuple in a list adding also the file name\n",
    "    for r in results:\n",
    "        r.append(X_file_test[i])\n",
    "        df_results.append(r)\n",
    "        \n",
    "# shows the results obtained\n",
    "df_results = pd.DataFrame(df_results, \n",
    "                          columns=['predCoords', 'trueCoords', 'predictionError', 'file'])\n",
    "df_results.head()"
   ]
  },
  {
   "cell_type": "code",
   "execution_count": 57,
   "id": "b71c4927",
   "metadata": {},
   "outputs": [
    {
     "name": "stdout",
     "output_type": "stream",
     "text": [
      "<class 'pandas.core.frame.DataFrame'>\n",
      "RangeIndex: 230 entries, 0 to 229\n",
      "Data columns (total 4 columns):\n",
      " #   Column           Non-Null Count  Dtype  \n",
      "---  ------           --------------  -----  \n",
      " 0   predCoords       223 non-null    object \n",
      " 1   trueCoords       230 non-null    object \n",
      " 2   predictionError  223 non-null    float64\n",
      " 3   file             230 non-null    object \n",
      "dtypes: float64(1), object(3)\n",
      "memory usage: 7.3+ KB\n"
     ]
    }
   ],
   "source": [
    "df_results.info()"
   ]
  },
  {
   "cell_type": "markdown",
   "id": "4cce5e7d",
   "metadata": {},
   "source": [
    "These are the only sources coordinates which didn't have a match. Let's observe the fact that there are not FP."
   ]
  },
  {
   "cell_type": "code",
   "execution_count": 58,
   "id": "2e8b14d4",
   "metadata": {
    "scrolled": false
   },
   "outputs": [
    {
     "data": {
      "text/html": [
       "<div>\n",
       "<style scoped>\n",
       "    .dataframe tbody tr th:only-of-type {\n",
       "        vertical-align: middle;\n",
       "    }\n",
       "\n",
       "    .dataframe tbody tr th {\n",
       "        vertical-align: top;\n",
       "    }\n",
       "\n",
       "    .dataframe thead th {\n",
       "        text-align: right;\n",
       "    }\n",
       "</style>\n",
       "<table border=\"1\" class=\"dataframe\">\n",
       "  <thead>\n",
       "    <tr style=\"text-align: right;\">\n",
       "      <th></th>\n",
       "      <th>predCoords</th>\n",
       "      <th>trueCoords</th>\n",
       "      <th>predictionError</th>\n",
       "      <th>file</th>\n",
       "    </tr>\n",
       "  </thead>\n",
       "  <tbody>\n",
       "    <tr>\n",
       "      <th>71</th>\n",
       "      <td>None</td>\n",
       "      <td>&lt;SkyCoord (ICRS): (ra, dec) in deg\\n    (83.98...</td>\n",
       "      <td>NaN</td>\n",
       "      <td>./data/dataset/skymaps/crab_sky196.fits</td>\n",
       "    </tr>\n",
       "    <tr>\n",
       "      <th>77</th>\n",
       "      <td>None</td>\n",
       "      <td>&lt;SkyCoord (ICRS): (ra, dec) in deg\\n    (86.59...</td>\n",
       "      <td>NaN</td>\n",
       "      <td>./data/dataset/skymaps/crab_sky740.fits</td>\n",
       "    </tr>\n",
       "    <tr>\n",
       "      <th>106</th>\n",
       "      <td>None</td>\n",
       "      <td>&lt;SkyCoord (ICRS): (ra, dec) in deg\\n    (82.40...</td>\n",
       "      <td>NaN</td>\n",
       "      <td>./data/dataset/skymaps/crab_sky65.fits</td>\n",
       "    </tr>\n",
       "    <tr>\n",
       "      <th>110</th>\n",
       "      <td>None</td>\n",
       "      <td>&lt;SkyCoord (ICRS): (ra, dec) in deg\\n    (81.10...</td>\n",
       "      <td>NaN</td>\n",
       "      <td>./data/dataset/skymaps/crab_sky636.fits</td>\n",
       "    </tr>\n",
       "    <tr>\n",
       "      <th>139</th>\n",
       "      <td>None</td>\n",
       "      <td>&lt;SkyCoord (ICRS): (ra, dec) in deg\\n    (85.97...</td>\n",
       "      <td>NaN</td>\n",
       "      <td>./data/dataset/skymaps/crab_sky596.fits</td>\n",
       "    </tr>\n",
       "    <tr>\n",
       "      <th>178</th>\n",
       "      <td>None</td>\n",
       "      <td>&lt;SkyCoord (ICRS): (ra, dec) in deg\\n    (86.41...</td>\n",
       "      <td>NaN</td>\n",
       "      <td>./data/dataset/skymaps/crab_sky717.fits</td>\n",
       "    </tr>\n",
       "    <tr>\n",
       "      <th>196</th>\n",
       "      <td>None</td>\n",
       "      <td>&lt;SkyCoord (ICRS): (ra, dec) in deg\\n    (86.49...</td>\n",
       "      <td>NaN</td>\n",
       "      <td>./data/dataset/skymaps/crab_sky113.fits</td>\n",
       "    </tr>\n",
       "  </tbody>\n",
       "</table>\n",
       "</div>"
      ],
      "text/plain": [
       "    predCoords                                         trueCoords  \\\n",
       "71        None  <SkyCoord (ICRS): (ra, dec) in deg\\n    (83.98...   \n",
       "77        None  <SkyCoord (ICRS): (ra, dec) in deg\\n    (86.59...   \n",
       "106       None  <SkyCoord (ICRS): (ra, dec) in deg\\n    (82.40...   \n",
       "110       None  <SkyCoord (ICRS): (ra, dec) in deg\\n    (81.10...   \n",
       "139       None  <SkyCoord (ICRS): (ra, dec) in deg\\n    (85.97...   \n",
       "178       None  <SkyCoord (ICRS): (ra, dec) in deg\\n    (86.41...   \n",
       "196       None  <SkyCoord (ICRS): (ra, dec) in deg\\n    (86.49...   \n",
       "\n",
       "     predictionError                                     file  \n",
       "71               NaN  ./data/dataset/skymaps/crab_sky196.fits  \n",
       "77               NaN  ./data/dataset/skymaps/crab_sky740.fits  \n",
       "106              NaN   ./data/dataset/skymaps/crab_sky65.fits  \n",
       "110              NaN  ./data/dataset/skymaps/crab_sky636.fits  \n",
       "139              NaN  ./data/dataset/skymaps/crab_sky596.fits  \n",
       "178              NaN  ./data/dataset/skymaps/crab_sky717.fits  \n",
       "196              NaN  ./data/dataset/skymaps/crab_sky113.fits  "
      ]
     },
     "execution_count": 58,
     "metadata": {},
     "output_type": "execute_result"
    }
   ],
   "source": [
    "df_results[df_results['predCoords'].isna()]"
   ]
  },
  {
   "cell_type": "markdown",
   "id": "9be4e38b",
   "metadata": {},
   "source": [
    "### Angular prediction error"
   ]
  },
  {
   "cell_type": "markdown",
   "id": "b71f7173",
   "metadata": {},
   "source": [
    "The following plot shows graphically the locality, spread and skewness of the predicted angular error. As you can see the error is almost always less than `1e-5`. Some outliers are also present but they depend from the proprierty of the problem. Indeed there are some weird cases where this algorithm fails to predict sources."
   ]
  },
  {
   "cell_type": "code",
   "execution_count": 59,
   "id": "42f7cc57",
   "metadata": {},
   "outputs": [
    {
     "data": {
      "text/plain": [
       "[]"
      ]
     },
     "execution_count": 59,
     "metadata": {},
     "output_type": "execute_result"
    },
    {
     "data": {
      "image/png": "[encoded data removed]",
      "text/plain": [
       "<Figure size 432x288 with 1 Axes>"
      ]
     },
     "metadata": {
      "needs_background": "light"
     },
     "output_type": "display_data"
    }
   ],
   "source": [
    "plt.title('Prediction error boxplot')\n",
    "plt.grid(True)\n",
    "plt.ylabel('Separation\\n(radian angular unit)')\n",
    "plt.boxplot(df_results.dropna()['predictionError'])\n",
    "plt.plot()"
   ]
  },
  {
   "cell_type": "code",
   "execution_count": 67,
   "id": "d5f913ac",
   "metadata": {},
   "outputs": [
    {
     "data": {
      "text/plain": [
       "count    223.000000\n",
       "mean       0.000300\n",
       "std        0.000179\n",
       "min        0.000020\n",
       "25%        0.000202\n",
       "50%        0.000281\n",
       "75%        0.000380\n",
       "max        0.002162\n",
       "Name: predictionError, dtype: float64"
      ]
     },
     "execution_count": 67,
     "metadata": {},
     "output_type": "execute_result"
    }
   ],
   "source": [
    "df_results['predictionError'].describe()"
   ]
  },
  {
   "cell_type": "markdown",
   "id": "58c47e76",
   "metadata": {},
   "source": [
    "#### Weird case"
   ]
  },
  {
   "cell_type": "code",
   "execution_count": 61,
   "id": "c8525da4",
   "metadata": {},
   "outputs": [
    {
     "data": {
      "text/html": [
       "<div>\n",
       "<style scoped>\n",
       "    .dataframe tbody tr th:only-of-type {\n",
       "        vertical-align: middle;\n",
       "    }\n",
       "\n",
       "    .dataframe tbody tr th {\n",
       "        vertical-align: top;\n",
       "    }\n",
       "\n",
       "    .dataframe thead th {\n",
       "        text-align: right;\n",
       "    }\n",
       "</style>\n",
       "<table border=\"1\" class=\"dataframe\">\n",
       "  <thead>\n",
       "    <tr style=\"text-align: right;\">\n",
       "      <th></th>\n",
       "      <th>predCoords</th>\n",
       "      <th>trueCoords</th>\n",
       "      <th>predictionError</th>\n",
       "      <th>file</th>\n",
       "    </tr>\n",
       "  </thead>\n",
       "  <tbody>\n",
       "    <tr>\n",
       "      <th>69</th>\n",
       "      <td>&lt;SkyCoord (ICRS): (ra, dec) in deg\\n    (84.12...</td>\n",
       "      <td>&lt;SkyCoord (ICRS): (ra, dec) in deg\\n    (84.23...</td>\n",
       "      <td>0.002162</td>\n",
       "      <td>./data/dataset/skymaps/crab_sky196.fits</td>\n",
       "    </tr>\n",
       "    <tr>\n",
       "      <th>70</th>\n",
       "      <td>&lt;SkyCoord (ICRS): (ra, dec) in deg\\n    (85.17...</td>\n",
       "      <td>&lt;SkyCoord (ICRS): (ra, dec) in deg\\n    (85.15...</td>\n",
       "      <td>0.000435</td>\n",
       "      <td>./data/dataset/skymaps/crab_sky196.fits</td>\n",
       "    </tr>\n",
       "    <tr>\n",
       "      <th>71</th>\n",
       "      <td>None</td>\n",
       "      <td>&lt;SkyCoord (ICRS): (ra, dec) in deg\\n    (83.98...</td>\n",
       "      <td>NaN</td>\n",
       "      <td>./data/dataset/skymaps/crab_sky196.fits</td>\n",
       "    </tr>\n",
       "  </tbody>\n",
       "</table>\n",
       "</div>"
      ],
      "text/plain": [
       "                                           predCoords  \\\n",
       "69  <SkyCoord (ICRS): (ra, dec) in deg\\n    (84.12...   \n",
       "70  <SkyCoord (ICRS): (ra, dec) in deg\\n    (85.17...   \n",
       "71                                               None   \n",
       "\n",
       "                                           trueCoords  predictionError  \\\n",
       "69  <SkyCoord (ICRS): (ra, dec) in deg\\n    (84.23...         0.002162   \n",
       "70  <SkyCoord (ICRS): (ra, dec) in deg\\n    (85.15...         0.000435   \n",
       "71  <SkyCoord (ICRS): (ra, dec) in deg\\n    (83.98...              NaN   \n",
       "\n",
       "                                       file  \n",
       "69  ./data/dataset/skymaps/crab_sky196.fits  \n",
       "70  ./data/dataset/skymaps/crab_sky196.fits  \n",
       "71  ./data/dataset/skymaps/crab_sky196.fits  "
      ]
     },
     "execution_count": 61,
     "metadata": {},
     "output_type": "execute_result"
    }
   ],
   "source": [
    "skymap='./data/dataset/skymaps/crab_sky196.fits'\n",
    "df_results[df_results['file']==skymap].head()"
   ]
  },
  {
   "cell_type": "code",
   "execution_count": 62,
   "id": "730aa652",
   "metadata": {},
   "outputs": [],
   "source": [
    "def plot(img, title, figsize=(8,8)):\n",
    "    plt.figure(figsize=figsize)\n",
    "    plt.imshow(img, cmap='gray', vmin=0, vmax=255)\n",
    "    plt.colorbar()\n",
    "    plt.title(title)\n",
    "    plt.show()"
   ]
  },
  {
   "cell_type": "code",
   "execution_count": 63,
   "id": "8514d385",
   "metadata": {},
   "outputs": [
    {
     "data": {
      "image/png": "[encoded data removed]",
      "text/plain": [
       "<Figure size 576x576 with 2 Axes>"
      ]
     },
     "metadata": {
      "needs_background": "light"
     },
     "output_type": "display_data"
    },
    {
     "data": {
      "image/png": "[encoded data removed]",
      "text/plain": [
       "<Figure size 576x576 with 2 Axes>"
      ]
     },
     "metadata": {
      "needs_background": "light"
     },
     "output_type": "display_data"
    }
   ],
   "source": [
    "# open the skymap\n",
    "img = cv2.imread('./temp/crab_sky196.png', cv2.IMREAD_GRAYSCALE)\n",
    "plot(img, 'Original image')\n",
    "img = cv2.GaussianBlur(img, (k_gs_size,k_gs_size), sigma)\n",
    "img = cv2.convertScaleAbs(img, alpha=alpha_power)\n",
    "T = threshExtractSource(img, p=p)\n",
    "ret, img = cv2.threshold(img,T,255,cv2.THRESH_BINARY)\n",
    "plot(img, 'Segmented image')"
   ]
  },
  {
   "cell_type": "markdown",
   "id": "2f2c3f2a",
   "metadata": {},
   "source": [
    "### Number of mismatch"
   ]
  },
  {
   "cell_type": "markdown",
   "id": "5207e848",
   "metadata": {},
   "source": [
    "Another important things to analyze is the number of mismtach which as it is possible to see, it shows very good results for what concern FP and FN."
   ]
  },
  {
   "cell_type": "code",
   "execution_count": 70,
   "id": "af0973f7",
   "metadata": {},
   "outputs": [
    {
     "name": "stdout",
     "output_type": "stream",
     "text": [
      "Number of mismatch: 7 over 230 sources\n",
      "Test set accuracy predicting number of sources: 0.972\n"
     ]
    }
   ],
   "source": [
    "gold_Nsources = [len(y_coord_test[i]) for i in range(len(y_coord_test))]\n",
    "pred_Nsources = [len(y_coord_pred[i]) for i in range(len(y_coord_pred))]\n",
    "print('Number of mismatch:', np.sum(msm), 'over', np.sum(gold_Nsources), 'sources')\n",
    "test_acc = accuracy_score(gold_Nsources, pred_Nsources)\n",
    "print(\"Test set accuracy predicting number of sources:\", test_acc)"
   ]
  },
  {
   "cell_type": "code",
   "execution_count": 65,
   "id": "ba98738f",
   "metadata": {},
   "outputs": [
    {
     "data": {
      "text/plain": [
       "[]"
      ]
     },
     "execution_count": 65,
     "metadata": {},
     "output_type": "execute_result"
    },
    {
     "data": {
      "image/png": "[encoded data removed]",
      "text/plain": [
       "<Figure size 432x288 with 1 Axes>"
      ]
     },
     "metadata": {
      "needs_background": "light"
     },
     "output_type": "display_data"
    }
   ],
   "source": [
    "plt.xlabel('Number of mismatch')\n",
    "plt.title('Mismatch histogram')\n",
    "plt.hist(np.array(msm), bins=np.max(msm)+1)\n",
    "plt.xticks(range(len(msm)))\n",
    "plt.plot()"
   ]
  },
  {
   "cell_type": "markdown",
   "id": "e8cbada4",
   "metadata": {},
   "source": [
    "Going more in the details of these mistakes, the following confusion matrix shows the stability of the algorithm in predicting sources' coordinates when there is only 1 sources, while it seems quite accettable for two sources in one image and critical for 3 sources in the same image, resulting in a detection, more or less, in 2/3 of times. "
   ]
  },
  {
   "cell_type": "code",
   "execution_count": 66,
   "id": "0fc0c38b",
   "metadata": {},
   "outputs": [
    {
     "data": {
      "image/png": "[encoded data removed]",
      "text/plain": [
       "<Figure size 360x360 with 2 Axes>"
      ]
     },
     "metadata": {
      "needs_background": "light"
     },
     "output_type": "display_data"
    }
   ],
   "source": [
    "# Confusion matrix of Label results\n",
    "fig, ax=plt.subplots(1,1,figsize=(5,5))\n",
    "plt.grid(False)\n",
    "# Plot the confusion matrix normalizing over the true values (over the rows)\n",
    "cm = confusion_matrix([len(y_coord_test[i]) for i in range(len(y_coord_test))], \n",
    "                      [len(y_coord_pred[i]) for i in range(len(y_coord_pred))])\n",
    "disp = ConfusionMatrixDisplay(confusion_matrix=cm)\n",
    "disp.plot(ax=ax, cmap='viridis')\n",
    "plt.title('Confusion Matrix for Number of\\nprediction coordinates (Test set)')\n",
    "plt.show()"
   ]
  },
  {
   "cell_type": "code",
   "execution_count": 71,
   "id": "683730f5",
   "metadata": {},
   "outputs": [
    {
     "name": "stdout",
     "output_type": "stream",
     "text": [
      "[[ 92   0   0   0]\n",
      " [  0 108   0   0]\n",
      " [  0   2  26   0]\n",
      " [  0   0   5  17]]\n"
     ]
    }
   ],
   "source": [
    "print(cm)"
   ]
  },
  {
   "cell_type": "markdown",
   "id": "24abdbae",
   "metadata": {},
   "source": [
    "# Appendix"
   ]
  },
  {
   "cell_type": "markdown",
   "id": "8ed590cc",
   "metadata": {},
   "source": [
    "## Moments"
   ]
  },
  {
   "cell_type": "markdown",
   "id": "3e1e2e1f",
   "metadata": {},
   "source": [
    "[Image moment - Wikipedia](https://en.wikipedia.org/wiki/Image_moment)\n",
    "\n",
    "In image processing, computer vision and related fields, an **image moment** _is a certain particular weighted average (moment) of the image pixels' intensities_, or a function of such moments, usually chosen to have some attractive property or interpretation.\n",
    "\n",
    "Image moments are useful to describe objects after segmentation. Simple properties of the image which are found via image moments include \n",
    "- area (or total intensity), \n",
    "- its centroid, \n",
    "- and information about its orientation.\n",
    "\n",
    "For a 2D continuous function $f(x,y)$ the **moment** (sometimes called \"raw moment\") **of order (p + q)** is defined as:\n",
    "$$ \\int_{-\\infty}^{+\\infty} x^py^qf(x,y) \\,dxdy $$\n",
    "\n",
    "For $p,q = 0,1,2,...$ adapting this to scalar (greyscale) image with pixel intensities I(x,y), raw image moments $M_{ij}$ are calculated by:\n",
    "\n",
    "$$\\sum_x \\sum_y x^iy^j I(x,y)$$\n",
    "\n"
   ]
  },
  {
   "cell_type": "markdown",
   "id": "72fa1712",
   "metadata": {},
   "source": [
    "### Central moments"
   ]
  },
  {
   "cell_type": "markdown",
   "id": "7e85f0cf",
   "metadata": {},
   "source": [
    "**Central moments** are defined as:\n",
    "$$ \\int_{-\\infty}^{+\\infty} (x-\\bar{x})^p(y-\\bar{y})^qf(x,y) \\,dxdy $$\n",
    "where $\\bar{x}=\\frac{M_{10}}{M_{00}}$ and $\\bar{y}=\\frac{M_{01}}{M_{00}}$ are the components of the **centroid**.\n",
    "\n",
    "If $f(x, y)$ is a digital image, then the previous equation becomes\n",
    "$$\\sum_x \\sum_y (x-\\bar{x})^p(y-\\bar{y})^qI(x,y)$$"
   ]
  },
  {
   "cell_type": "code",
   "execution_count": null,
   "id": "51dcadb2",
   "metadata": {},
   "outputs": [],
   "source": []
  }
 ],
 "metadata": {
  "celltoolbar": "Slideshow",
  "kernelspec": {
   "display_name": "cta_simulation",
   "language": "python",
   "name": "cta_simulation"
  },
  "language_info": {
   "codemirror_mode": {
    "name": "ipython",
    "version": 3
   },
   "file_extension": ".py",
   "mimetype": "text/x-python",
   "name": "python",
   "nbconvert_exporter": "python",
   "pygments_lexer": "ipython3",
   "version": "3.7.7"
  },
  "rise": {
   "autolaunch": false,
   "center": false,
   "controlsLayout": "edges",
   "enable_chalkboard": true,
   "footer": "",
   "hash": true,
   "header": "",
   "height": "90%",
   "scroll": true,
   "slideNumber": true,
   "start_slideshow_at": "selected",
   "theme": "serif",
   "transition": "fade",
   "width": "90%"
  },
  "toc": {
   "base_numbering": 1,
   "nav_menu": {},
   "number_sections": true,
   "sideBar": true,
   "skip_h1_title": false,
   "title_cell": "Table of Contents",
   "title_sidebar": "Contents",
   "toc_cell": false,
   "toc_position": {
    "height": "calc(100% - 180px)",
    "left": "10px",
    "top": "150px",
    "width": "256px"
   },
   "toc_section_display": true,
   "toc_window_display": false
  }
 },
 "nbformat": 4,
 "nbformat_minor": 5
}
