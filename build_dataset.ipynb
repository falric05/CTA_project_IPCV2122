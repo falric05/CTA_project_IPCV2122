{
 "cells": [
  {
   "cell_type": "code",
   "execution_count": 1,
   "id": "2349f08d",
   "metadata": {
    "slideshow": {
     "slide_type": "skip"
    }
   },
   "outputs": [],
   "source": [
    "# import the required libraries\n",
    "import os\n",
    "import ctools\n",
    "import random\n",
    "\n",
    "import matplotlib.pyplot as plt\n",
    "from astropy.io import fits\n",
    "from astropy.wcs import WCS\n",
    "from matplotlib.colors import SymLogNorm, LogNorm\n",
    "from astropy import units as u\n",
    "\n",
    "import matplotlib.pyplot as plt\n",
    "import numpy as np\n",
    "import cv2"
   ]
  },
  {
   "cell_type": "code",
   "execution_count": 2,
   "id": "20296d7d",
   "metadata": {
    "slideshow": {
     "slide_type": "skip"
    }
   },
   "outputs": [],
   "source": [
    "# for modify xml file of model.xml\n",
    "from lxml import etree\n",
    "import pandas as pd\n",
    "from tqdm import tqdm"
   ]
  },
  {
   "cell_type": "markdown",
   "id": "b13ade84",
   "metadata": {
    "slideshow": {
     "slide_type": "skip"
    }
   },
   "source": [
    "__Image Processing and Computer Vision: CTA projetc__\n",
    "\n",
    "Falco Riccardo - riccardo.falco2@tudio.unibo.it - 991986"
   ]
  },
  {
   "cell_type": "markdown",
   "id": "93dd9c5f",
   "metadata": {
    "slideshow": {
     "slide_type": "slide"
    }
   },
   "source": [
    "## **Parameters**"
   ]
  },
  {
   "cell_type": "markdown",
   "id": "9607f351",
   "metadata": {
    "slideshow": {
     "slide_type": "subslide"
    }
   },
   "source": [
    "### **Common parameters**"
   ]
  },
  {
   "cell_type": "markdown",
   "id": "e02afe45",
   "metadata": {
    "slideshow": {
     "slide_type": "fragment"
    }
   },
   "source": [
    "* `pointing`$\\Rightarrow$ are the sky coordinates where the telescope is pointing. \n",
    "* `fov` $\\Rightarrow$ **Field of View** (FoV): This refers to the area of sky visible to a particular telescope. For example, CTA’s Small-Sized Telescopes will have a field of view of around 9 degrees, meaning they will observe a circular area of sky with a diameter of 9 degrees.\n",
    "* `roi` $\\Rightarrow$ **Region of Interest** (RoI): In astronomy, this is a region of the sky or in an image on which the scientist wants to focus because of its physics importance.\n"
   ]
  },
  {
   "cell_type": "code",
   "execution_count": 3,
   "id": "52101f4a",
   "metadata": {
    "slideshow": {
     "slide_type": "fragment"
    }
   },
   "outputs": [],
   "source": [
    "pointing = np.array([83.6331, 22.5145])\n",
    "fov = 5 \n",
    "roi = 5\n",
    "time = (0, 100)"
   ]
  },
  {
   "cell_type": "code",
   "execution_count": 4,
   "id": "4d378d6f",
   "metadata": {
    "slideshow": {
     "slide_type": "skip"
    }
   },
   "outputs": [],
   "source": [
    "no_crab_skymap = os.path.join('data', 'dataset', 'no_crab_sky.fits')"
   ]
  },
  {
   "cell_type": "markdown",
   "id": "b185da60",
   "metadata": {
    "slideshow": {
     "slide_type": "subslide"
    }
   },
   "source": [
    "### **Group 2 parameters**"
   ]
  },
  {
   "cell_type": "markdown",
   "id": "4bcd1101",
   "metadata": {
    "slideshow": {
     "slide_type": "fragment"
    }
   },
   "source": [
    "* `energy` $\\Rightarrow$ **Energy**: Property that all objects in the Universe have, and it can be understood as the capability to perform an activity. \n",
    "* `irf` $\\Rightarrow$ **Instrument Response Function** (IRF): Group of characteristics that define the behavior of an instrument, such a Cherenkov telescope, and which must be considered during data analysis (one of them is, for example, the collection area of the instrument).\n"
   ]
  },
  {
   "cell_type": "code",
   "execution_count": 6,
   "id": "c858f528",
   "metadata": {
    "slideshow": {
     "slide_type": "fragment"
    }
   },
   "outputs": [],
   "source": [
    "energy=(0.1, 50)\n",
    "irf = 'South_z20_0.5h'"
   ]
  },
  {
   "cell_type": "markdown",
   "id": "eb80fcec",
   "metadata": {
    "slideshow": {
     "slide_type": "skip"
    }
   },
   "source": [
    "## **Define folders**"
   ]
  },
  {
   "cell_type": "code",
   "execution_count": 7,
   "id": "06430d1e",
   "metadata": {
    "slideshow": {
     "slide_type": "skip"
    }
   },
   "outputs": [],
   "source": [
    "# base folder of the datas\n",
    "base_folder = './data/dataset'\n",
    "if not os.path.isdir(base_folder):\n",
    "    os.mkdir(base_folder)\n",
    "\n",
    "# folder of observations\n",
    "obs_folder = './data/dataset/observetions'\n",
    "if not os.path.isdir(obs_folder):\n",
    "    os.mkdir(obs_folder)\n",
    "\n",
    "# folder of skymaps\n",
    "skymaps_folder = './data/dataset/skymaps'\n",
    "if not os.path.isdir(skymaps_folder):\n",
    "    os.mkdir(skymaps_folder)\n",
    "    \n",
    "# base folder of the datas\n",
    "tmp_folder = './data/dataset/temp'\n",
    "if not os.path.isdir(tmp_folder):\n",
    "    os.mkdir(tmp_folder)"
   ]
  },
  {
   "cell_type": "markdown",
   "id": "0d905f29",
   "metadata": {
    "slideshow": {
     "slide_type": "slide"
    }
   },
   "source": [
    "## **Create dataset**"
   ]
  },
  {
   "cell_type": "markdown",
   "id": "35e3b2c6",
   "metadata": {
    "slideshow": {
     "slide_type": "subslide"
    }
   },
   "source": [
    "* Here we construct the dataset, that it will be composed by 1000 images with not more than 3 soures for each observation image."
   ]
  },
  {
   "cell_type": "code",
   "execution_count": 8,
   "id": "cfd3c309",
   "metadata": {
    "slideshow": {
     "slide_type": "fragment"
    }
   },
   "outputs": [],
   "source": [
    "n = 1000\n",
    "max_deg = 3\n",
    "p_no_crab = 0.5\n",
    "p_1_crab = 0.3\n",
    "p_2_crab = 0.15\n",
    "p_3_crab = 0.05"
   ]
  },
  {
   "cell_type": "markdown",
   "id": "3f0857d0",
   "metadata": {
    "slideshow": {
     "slide_type": "subslide"
    }
   },
   "source": [
    "More precisely we will have:\n",
    "* 500 images background only\n",
    "* 300 with 1 sources\n",
    "* 150 with 2 sources in the same image\n",
    "*  50 with 3 sources"
   ]
  },
  {
   "cell_type": "code",
   "execution_count": 9,
   "id": "552af26b",
   "metadata": {
    "slideshow": {
     "slide_type": "fragment"
    }
   },
   "outputs": [
    {
     "data": {
      "text/plain": [
       "(500.0, 300.0, 150.0, 50.0)"
      ]
     },
     "execution_count": 9,
     "metadata": {},
     "output_type": "execute_result"
    }
   ],
   "source": [
    "n_0 = np.ceil(n * p_no_crab)\n",
    "n_1 = np.ceil(n * p_1_crab)\n",
    "n_2 = np.ceil(n * p_2_crab)\n",
    "n_3 = n - (n_0 + n_1 + n_2)\n",
    "n_0, n_1, n_2, n_3"
   ]
  },
  {
   "cell_type": "code",
   "execution_count": 10,
   "id": "4912d702",
   "metadata": {
    "slideshow": {
     "slide_type": "skip"
    }
   },
   "outputs": [],
   "source": [
    "X = []\n",
    "y = []\n",
    "num_sorces = []\n",
    "file_names = []\n",
    "offset = []\n",
    "i = 0\n",
    "while i < n:\n",
    "    eps = random.randint(0, 3)\n",
    "    if eps == 0 and n_0 > 0:\n",
    "        i += 1\n",
    "        n_0 -= 1\n",
    "        X.append([0, 0])\n",
    "        y.append('no')\n",
    "        num_sorces.append(0)\n",
    "        file_names.append('crab_sky'+ \"%03d\" %(i,) +'.fits')\n",
    "    elif eps == 1 and n_1 > 0:\n",
    "        i += 1\n",
    "        n_1 -= 1\n",
    "        X.append([np.random.uniform(pointing[0]-max_deg, pointing[0]+max_deg),\n",
    "                  np.random.uniform(pointing[1]-max_deg, pointing[1]+max_deg)])\n",
    "        y.append('yes')\n",
    "        num_sorces.append(1)\n",
    "        file_names.append('crab_sky'+ \"%03d\" %(i,) +'.fits')\n",
    "    elif eps == 2 and n_2 > 0:\n",
    "        i += 1\n",
    "        n_2 -= 1\n",
    "        for j in range(2):\n",
    "            X.append([np.random.uniform(pointing[0]-max_deg, pointing[0]+max_deg),\n",
    "                      np.random.uniform(pointing[1]-max_deg, pointing[1]+max_deg)])\n",
    "            y.append('yes')\n",
    "            num_sorces.append(2)\n",
    "            file_names.append('crab_sky'+ \"%03d\" %(i,) +'.fits')\n",
    "    elif eps == 3 and n_3 > 0:\n",
    "        i += 1\n",
    "        n_3 -= 1\n",
    "        for j in range(3):\n",
    "            X.append([np.random.uniform(pointing[0]-max_deg, pointing[0]+max_deg),\n",
    "                      np.random.uniform(pointing[1]-max_deg, pointing[1]+max_deg)])\n",
    "            y.append('yes')\n",
    "            num_sorces.append(3)\n",
    "            file_names.append('crab_sky'+ \"%03d\" %(i,) +'.fits')"
   ]
  },
  {
   "cell_type": "markdown",
   "id": "69118792",
   "metadata": {
    "slideshow": {
     "slide_type": "subslide"
    }
   },
   "source": [
    "Here instead there is the `.csv` which represents the dataset with list of observed event containg background only or background + a source. Each row of the dataset indeed comprends:\n",
    "* `File_name` the name of the FITS file,\n",
    "* `Source-ra` and `Source-dec` represent the _right ascension_ and the _declination_ coordinates in the Equatorial Coordinate System of the corrispondig gamma flare's source,\n",
    "* `N_sources` which indicates how many sources there are in the same FITS file,\n",
    "* `Label` meaning if the image is background + source or not, i.e. `Label = yes` $\\Leftrightarrow$ `N_sources > 0`, `Label = no` other."
   ]
  },
  {
   "cell_type": "code",
   "execution_count": 11,
   "id": "e6d26c28",
   "metadata": {
    "slideshow": {
     "slide_type": "fragment"
    }
   },
   "outputs": [
    {
     "data": {
      "text/html": [
       "<div>\n",
       "<style scoped>\n",
       "    .dataframe tbody tr th:only-of-type {\n",
       "        vertical-align: middle;\n",
       "    }\n",
       "\n",
       "    .dataframe tbody tr th {\n",
       "        vertical-align: top;\n",
       "    }\n",
       "\n",
       "    .dataframe thead th {\n",
       "        text-align: right;\n",
       "    }\n",
       "</style>\n",
       "<table border=\"1\" class=\"dataframe\">\n",
       "  <thead>\n",
       "    <tr style=\"text-align: right;\">\n",
       "      <th></th>\n",
       "      <th>File_name</th>\n",
       "      <th>Source-ra</th>\n",
       "      <th>Source-dec</th>\n",
       "      <th>N_sources</th>\n",
       "      <th>Label</th>\n",
       "    </tr>\n",
       "  </thead>\n",
       "  <tbody>\n",
       "    <tr>\n",
       "      <th>0</th>\n",
       "      <td>crab_sky001.fits</td>\n",
       "      <td>83.594197</td>\n",
       "      <td>21.410309</td>\n",
       "      <td>1</td>\n",
       "      <td>yes</td>\n",
       "    </tr>\n",
       "    <tr>\n",
       "      <th>1</th>\n",
       "      <td>crab_sky002.fits</td>\n",
       "      <td>81.112909</td>\n",
       "      <td>21.824453</td>\n",
       "      <td>1</td>\n",
       "      <td>yes</td>\n",
       "    </tr>\n",
       "    <tr>\n",
       "      <th>2</th>\n",
       "      <td>crab_sky003.fits</td>\n",
       "      <td>0.000000</td>\n",
       "      <td>0.000000</td>\n",
       "      <td>0</td>\n",
       "      <td>no</td>\n",
       "    </tr>\n",
       "    <tr>\n",
       "      <th>3</th>\n",
       "      <td>crab_sky004.fits</td>\n",
       "      <td>85.779273</td>\n",
       "      <td>23.729835</td>\n",
       "      <td>3</td>\n",
       "      <td>yes</td>\n",
       "    </tr>\n",
       "    <tr>\n",
       "      <th>4</th>\n",
       "      <td>crab_sky004.fits</td>\n",
       "      <td>82.622388</td>\n",
       "      <td>23.012836</td>\n",
       "      <td>3</td>\n",
       "      <td>yes</td>\n",
       "    </tr>\n",
       "    <tr>\n",
       "      <th>...</th>\n",
       "      <td>...</td>\n",
       "      <td>...</td>\n",
       "      <td>...</td>\n",
       "      <td>...</td>\n",
       "      <td>...</td>\n",
       "    </tr>\n",
       "    <tr>\n",
       "      <th>1245</th>\n",
       "      <td>crab_sky996.fits</td>\n",
       "      <td>0.000000</td>\n",
       "      <td>0.000000</td>\n",
       "      <td>0</td>\n",
       "      <td>no</td>\n",
       "    </tr>\n",
       "    <tr>\n",
       "      <th>1246</th>\n",
       "      <td>crab_sky997.fits</td>\n",
       "      <td>0.000000</td>\n",
       "      <td>0.000000</td>\n",
       "      <td>0</td>\n",
       "      <td>no</td>\n",
       "    </tr>\n",
       "    <tr>\n",
       "      <th>1247</th>\n",
       "      <td>crab_sky998.fits</td>\n",
       "      <td>0.000000</td>\n",
       "      <td>0.000000</td>\n",
       "      <td>0</td>\n",
       "      <td>no</td>\n",
       "    </tr>\n",
       "    <tr>\n",
       "      <th>1248</th>\n",
       "      <td>crab_sky999.fits</td>\n",
       "      <td>0.000000</td>\n",
       "      <td>0.000000</td>\n",
       "      <td>0</td>\n",
       "      <td>no</td>\n",
       "    </tr>\n",
       "    <tr>\n",
       "      <th>1249</th>\n",
       "      <td>crab_sky1000.fits</td>\n",
       "      <td>0.000000</td>\n",
       "      <td>0.000000</td>\n",
       "      <td>0</td>\n",
       "      <td>no</td>\n",
       "    </tr>\n",
       "  </tbody>\n",
       "</table>\n",
       "<p>1250 rows × 5 columns</p>\n",
       "</div>"
      ],
      "text/plain": [
       "              File_name  Source-ra  Source-dec  N_sources Label\n",
       "0      crab_sky001.fits  83.594197   21.410309          1   yes\n",
       "1      crab_sky002.fits  81.112909   21.824453          1   yes\n",
       "2      crab_sky003.fits   0.000000    0.000000          0    no\n",
       "3      crab_sky004.fits  85.779273   23.729835          3   yes\n",
       "4      crab_sky004.fits  82.622388   23.012836          3   yes\n",
       "...                 ...        ...         ...        ...   ...\n",
       "1245   crab_sky996.fits   0.000000    0.000000          0    no\n",
       "1246   crab_sky997.fits   0.000000    0.000000          0    no\n",
       "1247   crab_sky998.fits   0.000000    0.000000          0    no\n",
       "1248   crab_sky999.fits   0.000000    0.000000          0    no\n",
       "1249  crab_sky1000.fits   0.000000    0.000000          0    no\n",
       "\n",
       "[1250 rows x 5 columns]"
      ]
     },
     "execution_count": 11,
     "metadata": {},
     "output_type": "execute_result"
    }
   ],
   "source": [
    "df = pd.DataFrame({'File_name':file_names,\n",
    "                   'Source-ra':np.array(X)[:,0],\n",
    "                   'Source-dec':np.array(X)[:,1],\n",
    "                   'N_sources':num_sorces,\n",
    "                   'Label': y})\n",
    "df"
   ]
  },
  {
   "cell_type": "markdown",
   "id": "430e4850",
   "metadata": {
    "slideshow": {
     "slide_type": "subslide"
    }
   },
   "source": [
    "Finally this will be the distribution of the dataset, as we would like to have."
   ]
  },
  {
   "cell_type": "code",
   "execution_count": 12,
   "id": "167c6bdf",
   "metadata": {
    "slideshow": {
     "slide_type": "fragment"
    }
   },
   "outputs": [
    {
     "data": {
      "text/plain": [
       "<AxesSubplot:title={'center':'Labels histogram'}, xlabel='Label'>"
      ]
     },
     "execution_count": 12,
     "metadata": {},
     "output_type": "execute_result"
    },
    {
     "data": {
      "image/png": "[encoded data removed]",
      "text/plain": [
       "<Figure size 432x288 with 1 Axes>"
      ]
     },
     "metadata": {
      "needs_background": "light"
     },
     "output_type": "display_data"
    }
   ],
   "source": [
    "plt.title('Labels histogram')\n",
    "df.groupby(['File_name', 'Label'], as_index=False).count() \\\n",
    "  .groupby('Label')['Label'].count().plot.bar()"
   ]
  },
  {
   "cell_type": "code",
   "execution_count": 13,
   "id": "835d4755",
   "metadata": {
    "slideshow": {
     "slide_type": "subslide"
    }
   },
   "outputs": [
    {
     "data": {
      "image/png": "[encoded data removed]",
      "text/plain": [
       "<Figure size 432x288 with 1 Axes>"
      ]
     },
     "metadata": {
      "needs_background": "light"
     },
     "output_type": "display_data"
    }
   ],
   "source": [
    "plt.title('Histogram for number of sources')\n",
    "plt.ylabel('Number of samples')\n",
    "df.groupby(['File_name', 'N_sources'], as_index=False).count() \\\n",
    "  .groupby('N_sources')['N_sources'].count()                   \\\n",
    "  .plot.bar()\n",
    "plt.show()"
   ]
  },
  {
   "cell_type": "markdown",
   "id": "37536338",
   "metadata": {
    "slideshow": {
     "slide_type": "slide"
    }
   },
   "source": [
    "## **Functions**"
   ]
  },
  {
   "cell_type": "markdown",
   "id": "60ec36d1",
   "metadata": {
    "slideshow": {
     "slide_type": "subslide"
    }
   },
   "source": [
    "### ctobssim"
   ]
  },
  {
   "cell_type": "markdown",
   "id": "6d746af2",
   "metadata": {
    "slideshow": {
     "slide_type": "fragment"
    }
   },
   "source": [
    "`ctobssim` simulates event list(s) using the instrument characteristics specified by the instrument response function(s) and an input model. The simulation includes photon events from astrophysical sources and background events from an instrumental background model (`irf`)."
   ]
  },
  {
   "cell_type": "code",
   "execution_count": 14,
   "id": "0997040c",
   "metadata": {
    "slideshow": {
     "slide_type": "subslide"
    }
   },
   "outputs": [],
   "source": [
    "def run_ctobssim(model, pointing, output, energy=(0.03, 150), time=(0, 1200), fov=5, \n",
    "                 caldb='prod3b-v2', irf='South_z40_0.5h', seed=1):\n",
    "    sim = ctools.ctobssim()\n",
    "    sim[\"inmodel\"] = model\n",
    "    sim[\"outevents\"] = output\n",
    "    sim[\"caldb\"] = caldb\n",
    "    sim[\"irf\"] = irf\n",
    "    sim[\"ra\"] = pointing[0]\n",
    "    sim[\"dec\"] = pointing[1]\n",
    "    sim[\"rad\"] = fov\n",
    "    sim[\"tmin\"] = time[0]\n",
    "    sim[\"tmax\"] = time[1]\n",
    "    sim[\"emin\"] = energy[0]\n",
    "    sim[\"emax\"] = energy[1]\n",
    "    sim[\"seed\"] = seed\n",
    "    sim.execute()"
   ]
  },
  {
   "cell_type": "markdown",
   "id": "720a955d",
   "metadata": {
    "slideshow": {
     "slide_type": "subslide"
    }
   },
   "source": [
    "### skymap"
   ]
  },
  {
   "cell_type": "markdown",
   "id": "a2015962",
   "metadata": {
    "slideshow": {
     "slide_type": "fragment"
    }
   },
   "source": [
    "`ctskymap` creates a sky map from either a single event list or event lists provided in an observation definition file. The tool will loop over all event lists that are provided and fill all events into a single sky map. Only events within an energy interval spanned by emin and emax are considered."
   ]
  },
  {
   "cell_type": "code",
   "execution_count": 15,
   "id": "5dda9042",
   "metadata": {
    "slideshow": {
     "slide_type": "subslide"
    }
   },
   "outputs": [],
   "source": [
    "def run_skymap(obs, output, energy=(0.03, 150), roi=5, caldb='prod3b-v2', \n",
    "               irf='South_z40_0.5h', wbin=0.02):\n",
    "    nbin = int(roi*2/wbin)\n",
    "    skymap = ctools.ctskymap()\n",
    "    skymap['inobs'] = obs\n",
    "    skymap['outmap'] = output\n",
    "    skymap['irf'] = irf\n",
    "    skymap['caldb'] = caldb\n",
    "    skymap['emin'] = energy[0]\n",
    "    skymap['emax'] = energy[1]\n",
    "    skymap['usepnt'] = True\n",
    "    skymap['nxpix'] = nbin\n",
    "    skymap['nypix'] = nbin\n",
    "    skymap['binsz'] = wbin\n",
    "    skymap['bkgsubtract'] = 'IRF'\n",
    "    skymap.execute()"
   ]
  },
  {
   "cell_type": "markdown",
   "id": "9d3d2e9b",
   "metadata": {
    "slideshow": {
     "slide_type": "subslide"
    }
   },
   "source": [
    "### generateSourceModel"
   ]
  },
  {
   "cell_type": "markdown",
   "id": "b5e89ee0",
   "metadata": {
    "slideshow": {
     "slide_type": "fragment"
    }
   },
   "source": [
    "* To build a good synthetic observation, it is necessary to build a model `XML` which defines all the properties that the we would like to have in our observation."
   ]
  },
  {
   "cell_type": "markdown",
   "id": "f8c5ab13",
   "metadata": {
    "slideshow": {
     "slide_type": "fragment"
    }
   },
   "source": [
    "* Here it is possible to see an example of this XML model"
   ]
  },
  {
   "cell_type": "raw",
   "id": "87463d13",
   "metadata": {
    "slideshow": {
     "slide_type": "subslide"
    }
   },
   "source": [
    "<?xml version=\"1.0\" standalone=\"no\"?>\n",
    "<source_library title=\"source library\">\n",
    "  <source name=\"Crab\" type=\"PointSource\">\n",
    "    <spectrum type=\"PowerLaw\">\n",
    "      <parameter name=\"Prefactor\"  scale=\"1e-16\" value=\"5.7\"  min=\"1e-07\" max=\"1000.0\" free=\"1\"/>\n",
    "      <parameter name=\"Index\"       scale=\"-1\"    value=\"2.48\" min=\"0.0\"  max=\"+5.0\"   free=\"1\"/>\n",
    "      <parameter name=\"PivotEnergy\" scale=\"1e6\"   value=\"0.3\"  min=\"0.01\" max=\"1000.0\" free=\"0\"/>\n",
    "    </spectrum>\n",
    "    <spatialModel type=\"PointSource\">\n",
    "      <parameter name=\"RA\"  scale=\"1.0\" value=\"83.6331\" min=\"-360\" max=\"360\" free=\"0\"/>\n",
    "      <parameter name=\"DEC\" scale=\"1.0\" value=\"22.0145\" min=\"-90\"  max=\"90\"  free=\"0\"/>\n",
    "    </spatialModel>\n",
    "  </source>\n",
    "  <source name=\"CTABackgroundModel\" type=\"CTAIrfBackground\" instrument=\"CTA\">\n",
    "    <spectrum type=\"PowerLaw\">\t\n",
    "      <parameter name=\"Prefactor\"   scale=\"1.0\"  value=\"1.0\"  min=\"1e-3\" max=\"1e+3\"   free=\"1\"/>\t\n",
    "      <parameter name=\"Index\"       scale=\"1.0\"  value=\"0.0\"  min=\"-5.0\" max=\"+5.0\"   free=\"1\"/>\n",
    "      <parameter name=\"PivotEnergy\" scale=\"1e6\"  value=\"1.0\"  min=\"0.01\" max=\"1000.0\" free=\"0\"/>\n",
    "    </spectrum>\n",
    "  </source>\t\n",
    "</source_library>"
   ]
  },
  {
   "cell_type": "markdown",
   "id": "15f7b429",
   "metadata": {
    "slideshow": {
     "slide_type": "subslide"
    }
   },
   "source": [
    "Two relevant parts:\n",
    "* `PointSource` which refear to the parameters important to model the source of the current observation. Notice the `parameter`s of `PointSource` child contain the indeed the position (i.e. in Equatorial Coordinates System) of our observation"
   ]
  },
  {
   "cell_type": "raw",
   "id": "647cbde8",
   "metadata": {
    "slideshow": {
     "slide_type": "fragment"
    }
   },
   "source": [
    "<source name=\"Crab\" type=\"PointSource\">\n",
    "  ...\n",
    "  <spatialModel type=\"PointSource\">\n",
    "    <parameter name=\"RA\"  scale=\"1.0\" value=\"83.6331\" min=\"-360\" max=\"360\" free=\"0\"/>\n",
    "    <parameter name=\"DEC\" scale=\"1.0\" value=\"22.0145\" min=\"-90\"  max=\"90\"  free=\"0\"/>\n",
    "  </spatialModel>\n",
    "  ..."
   ]
  },
  {
   "cell_type": "markdown",
   "id": "9ff458c3",
   "metadata": {
    "slideshow": {
     "slide_type": "subslide"
    }
   },
   "source": [
    "* `CTAIrfBackground` corresponds instead to the function used by the tool to model the background of the instrument used for performing the observations"
   ]
  },
  {
   "cell_type": "raw",
   "id": "a23d29c0",
   "metadata": {
    "slideshow": {
     "slide_type": "fragment"
    }
   },
   "source": [
    "<source name=\"CTABackgroundModel\" type=\"CTAIrfBackground\" instrument=\"CTA\">\n",
    "  <spectrum type=\"PowerLaw\">\t\n",
    "    <parameter name=\"Prefactor\"   scale=\"1.0\"  value=\"1.0\"  min=\"1e-3\" max=\"1e+3\"   free=\"1\"/>\t\n",
    "    <parameter name=\"Index\"       scale=\"1.0\"  value=\"0.0\"  min=\"-5.0\" max=\"+5.0\"   free=\"1\"/>\n",
    "    <parameter name=\"PivotEnergy\" scale=\"1e6\"  value=\"1.0\"  min=\"0.01\" max=\"1000.0\" free=\"0\"/>\n",
    "  </spectrum>\n",
    "</source>\t"
   ]
  },
  {
   "cell_type": "markdown",
   "id": "c1060ff6",
   "metadata": {
    "slideshow": {
     "slide_type": "subslide"
    }
   },
   "source": [
    "`generateSourceModel` is the function that perfoms updates to the XML file in order to symulate the observations."
   ]
  },
  {
   "cell_type": "code",
   "execution_count": 16,
   "id": "e375282a",
   "metadata": {
    "slideshow": {
     "slide_type": "fragment"
    }
   },
   "outputs": [],
   "source": [
    "def generateSourceModel(source, n_sources):\n",
    "    if n_sources == 0:\n",
    "        model = './models/no_crab.xml'\n",
    "        return model\n",
    "    elif n_sources == 1:\n",
    "        model = './models/crab1.xml'\n",
    "    elif n_sources == 2:\n",
    "        model = './models/crab2.xml'\n",
    "    elif n_sources == 3:\n",
    "        model = './models/crab3.xml'\n",
    "    tree = etree.parse(model)\n",
    "    root = tree.getroot()\n",
    "    # change value of spatialmodel source:\n",
    "    for i in range(len(source)):\n",
    "        spatialmodel = root[i][1]\n",
    "        # ra value\n",
    "        spatialmodel[0].set('value', str(source[i,0]))\n",
    "        # dec value\n",
    "        spatialmodel[1].set('value', str(source[i,1]))\n",
    "    # Rewrite new values on the xml file\n",
    "    tree.write(model, pretty_print=True)\n",
    "    return model"
   ]
  },
  {
   "cell_type": "markdown",
   "id": "60f039c9",
   "metadata": {
    "slideshow": {
     "slide_type": "subslide"
    }
   },
   "source": [
    "### createSource"
   ]
  },
  {
   "cell_type": "markdown",
   "id": "4567759e",
   "metadata": {
    "slideshow": {
     "slide_type": "subslide"
    }
   },
   "source": [
    "Finally with this function it is possible to performs all the previous steps in function of all the parameters presented before."
   ]
  },
  {
   "cell_type": "code",
   "execution_count": 17,
   "id": "12657e7f",
   "metadata": {
    "slideshow": {
     "slide_type": "fragment"
    }
   },
   "outputs": [],
   "source": [
    "def createSource(filename,\n",
    "                 model,\n",
    "                 pointing=(83.6331, 22.5145),\n",
    "                 energy=(0.03, 150),\n",
    "                 fov=5,\n",
    "                 roi=5,\n",
    "                 irf='South_z20_0.5h',\n",
    "                 time=(0, 1200),\n",
    "                 data_folder='./data/dataset', \n",
    "                 data_folder_sim=None, \n",
    "                 data_folder_skymap=None,\n",
    "                 seed=1,\n",
    "                 print_name_file=False):\n",
    "\n",
    "    # create the simulation\n",
    "    if not data_folder_sim == None:\n",
    "        folder = data_folder_sim\n",
    "    else:\n",
    "        folder = data_folder\n",
    "        \n",
    "    # I can create the observetion\n",
    "    obs=folder+'/'+filename\n",
    "    run_ctobssim(model=model, pointing=pointing, energy=energy, \n",
    "                 time=time, fov=fov, irf=irf, output=obs, seed=seed)\n",
    "    if print_name_file:\n",
    "        print(model)\n",
    "        print(obs)\n",
    "    # ... and create skymap\n",
    "    if not data_folder_skymap == None:\n",
    "        folder = data_folder_skymap\n",
    "    else:\n",
    "        folder = data_folder\n",
    "    skymap=folder+'/'+filename\n",
    "    if print_name_file:\n",
    "        print(skymap)\n",
    "    run_skymap(obs=obs, output=skymap, energy=energy, irf=irf)\n",
    "    "
   ]
  },
  {
   "cell_type": "markdown",
   "id": "43902aa0",
   "metadata": {
    "slideshow": {
     "slide_type": "subslide"
    }
   },
   "source": [
    "### genSimulations"
   ]
  },
  {
   "cell_type": "markdown",
   "id": "509a9e03",
   "metadata": {
    "slideshow": {
     "slide_type": "subslide"
    }
   },
   "source": [
    "The following function manage to iterate over all the dataset and for each row, it performs a `createSource`."
   ]
  },
  {
   "cell_type": "raw",
   "id": "f9d3e27b",
   "metadata": {
    "slideshow": {
     "slide_type": "fragment"
    }
   },
   "source": [
    "def genSimulations(df, \n",
    "                   pointing=(83.6331, 22.5145),\n",
    "                   energy=(0.03, 150),\n",
    "                   fov=5,\n",
    "                   roi=5,\n",
    "                   irf='South_z20_0.5h',\n",
    "                   time=(0, 1200),\n",
    "                   data_folder='./data/dataset', \n",
    "                   model='./models/crab1.xml', \n",
    "                   data_folder_sim=None,\n",
    "                   data_folder_skymap=None,\n",
    "                   seed = 1,\n",
    "                   skymap_seed_ub=2048): [...]"
   ]
  },
  {
   "cell_type": "code",
   "execution_count": 18,
   "id": "a14ce702",
   "metadata": {
    "slideshow": {
     "slide_type": "skip"
    }
   },
   "outputs": [],
   "source": [
    "def genSimulations(df, \n",
    "                   pointing=(83.6331, 22.5145),\n",
    "                   energy=(0.03, 150),\n",
    "                   fov=5,\n",
    "                   roi=5,\n",
    "                   irf='South_z20_0.5h',\n",
    "                   time=(0, 1200),\n",
    "                   data_folder='./data/dataset', \n",
    "                   model='./models/crab1.xml', \n",
    "                   data_folder_sim=None,\n",
    "                   data_folder_skymap=None,\n",
    "                   seed = 1,\n",
    "                   skymap_seed_ub=2048): # upperbound skymap random seed\n",
    "    \n",
    "    filename = ''\n",
    "    k = 0\n",
    "#     np.random.seed(seed=1)\n",
    "    np.random.seed(seed=seed)\n",
    "    for i in tqdm(range(len(df))):\n",
    "        if filename == df.iloc[i]['File_name']:\n",
    "            continue\n",
    "        filename = df.iloc[i]['File_name']\n",
    "        \n",
    "        num_sources = df.iloc[i]['N_sources']\n",
    "        if num_sources == 0: \n",
    "            X = np.array([0, 0])\n",
    "        else:\n",
    "            X = []\n",
    "            for j in range(i, i+num_sources):\n",
    "                X.append([df.iloc[j]['Source-ra'],\n",
    "                          df.iloc[j]['Source-dec']])\n",
    "            X = np.array(X)\n",
    "        # overwrite the previous model with the new source\n",
    "        model = generateSourceModel(X, num_sources)\n",
    "        \n",
    "        # create the seed of the skymap\n",
    "        skymap_seed = np.random.randint(skymap_seed_ub)\n",
    "        \n",
    "        if (not data_folder_sim==None) and (not data_folder_skymap==None):\n",
    "            createSource(filename, model, energy=energy, time=time, \n",
    "                         fov=fov, roi=roi, irf=irf, \n",
    "                         data_folder_sim=data_folder_sim, \n",
    "                         data_folder_skymap=data_folder_skymap,\n",
    "                         seed=skymap_seed)\n",
    "        else:\n",
    "            createSource(filename, model, energy=energy, time=time, fov=fov, \n",
    "                         roi=roi, irf=irf, data_folder=data_folder,\n",
    "                         seed=skymap_seed)\n",
    "        k += 1"
   ]
  },
  {
   "cell_type": "code",
   "execution_count": 19,
   "id": "dd0d8123",
   "metadata": {
    "slideshow": {
     "slide_type": "subslide"
    }
   },
   "outputs": [
    {
     "name": "stderr",
     "output_type": "stream",
     "text": [
      "100%|██████████| 1250/1250 [5:37:58<00:00, 16.22s/it]  \n"
     ]
    }
   ],
   "source": [
    "genSimulations(df,\n",
    "               data_folder_sim=obs_folder, \n",
    "               data_folder_skymap=skymaps_folder)"
   ]
  },
  {
   "cell_type": "markdown",
   "id": "89352a4b",
   "metadata": {
    "slideshow": {
     "slide_type": "slide"
    }
   },
   "source": [
    "## **Save .csv**"
   ]
  },
  {
   "cell_type": "markdown",
   "id": "b1f45d51",
   "metadata": {
    "slideshow": {
     "slide_type": "subslide"
    }
   },
   "source": [
    "Finally let's save the dataframe"
   ]
  },
  {
   "cell_type": "code",
   "execution_count": 20,
   "id": "31d624f7",
   "metadata": {
    "slideshow": {
     "slide_type": "fragment"
    }
   },
   "outputs": [],
   "source": [
    "df.to_csv(base_folder+'/skymap_set.csv', index=False)"
   ]
  },
  {
   "cell_type": "code",
   "execution_count": 21,
   "id": "e4305119",
   "metadata": {
    "slideshow": {
     "slide_type": "fragment"
    }
   },
   "outputs": [
    {
     "data": {
      "text/html": [
       "<div>\n",
       "<style scoped>\n",
       "    .dataframe tbody tr th:only-of-type {\n",
       "        vertical-align: middle;\n",
       "    }\n",
       "\n",
       "    .dataframe tbody tr th {\n",
       "        vertical-align: top;\n",
       "    }\n",
       "\n",
       "    .dataframe thead th {\n",
       "        text-align: right;\n",
       "    }\n",
       "</style>\n",
       "<table border=\"1\" class=\"dataframe\">\n",
       "  <thead>\n",
       "    <tr style=\"text-align: right;\">\n",
       "      <th></th>\n",
       "      <th>File_name</th>\n",
       "      <th>Source-ra</th>\n",
       "      <th>Source-dec</th>\n",
       "      <th>N_sources</th>\n",
       "      <th>Label</th>\n",
       "    </tr>\n",
       "  </thead>\n",
       "  <tbody>\n",
       "    <tr>\n",
       "      <th>0</th>\n",
       "      <td>crab_sky001.fits</td>\n",
       "      <td>83.594197</td>\n",
       "      <td>21.410309</td>\n",
       "      <td>1</td>\n",
       "      <td>yes</td>\n",
       "    </tr>\n",
       "    <tr>\n",
       "      <th>1</th>\n",
       "      <td>crab_sky002.fits</td>\n",
       "      <td>81.112909</td>\n",
       "      <td>21.824453</td>\n",
       "      <td>1</td>\n",
       "      <td>yes</td>\n",
       "    </tr>\n",
       "    <tr>\n",
       "      <th>2</th>\n",
       "      <td>crab_sky003.fits</td>\n",
       "      <td>0.000000</td>\n",
       "      <td>0.000000</td>\n",
       "      <td>0</td>\n",
       "      <td>no</td>\n",
       "    </tr>\n",
       "    <tr>\n",
       "      <th>3</th>\n",
       "      <td>crab_sky004.fits</td>\n",
       "      <td>85.779273</td>\n",
       "      <td>23.729835</td>\n",
       "      <td>3</td>\n",
       "      <td>yes</td>\n",
       "    </tr>\n",
       "    <tr>\n",
       "      <th>4</th>\n",
       "      <td>crab_sky004.fits</td>\n",
       "      <td>82.622388</td>\n",
       "      <td>23.012836</td>\n",
       "      <td>3</td>\n",
       "      <td>yes</td>\n",
       "    </tr>\n",
       "    <tr>\n",
       "      <th>...</th>\n",
       "      <td>...</td>\n",
       "      <td>...</td>\n",
       "      <td>...</td>\n",
       "      <td>...</td>\n",
       "      <td>...</td>\n",
       "    </tr>\n",
       "    <tr>\n",
       "      <th>1245</th>\n",
       "      <td>crab_sky996.fits</td>\n",
       "      <td>0.000000</td>\n",
       "      <td>0.000000</td>\n",
       "      <td>0</td>\n",
       "      <td>no</td>\n",
       "    </tr>\n",
       "    <tr>\n",
       "      <th>1246</th>\n",
       "      <td>crab_sky997.fits</td>\n",
       "      <td>0.000000</td>\n",
       "      <td>0.000000</td>\n",
       "      <td>0</td>\n",
       "      <td>no</td>\n",
       "    </tr>\n",
       "    <tr>\n",
       "      <th>1247</th>\n",
       "      <td>crab_sky998.fits</td>\n",
       "      <td>0.000000</td>\n",
       "      <td>0.000000</td>\n",
       "      <td>0</td>\n",
       "      <td>no</td>\n",
       "    </tr>\n",
       "    <tr>\n",
       "      <th>1248</th>\n",
       "      <td>crab_sky999.fits</td>\n",
       "      <td>0.000000</td>\n",
       "      <td>0.000000</td>\n",
       "      <td>0</td>\n",
       "      <td>no</td>\n",
       "    </tr>\n",
       "    <tr>\n",
       "      <th>1249</th>\n",
       "      <td>crab_sky1000.fits</td>\n",
       "      <td>0.000000</td>\n",
       "      <td>0.000000</td>\n",
       "      <td>0</td>\n",
       "      <td>no</td>\n",
       "    </tr>\n",
       "  </tbody>\n",
       "</table>\n",
       "<p>1250 rows × 5 columns</p>\n",
       "</div>"
      ],
      "text/plain": [
       "              File_name  Source-ra  Source-dec  N_sources Label\n",
       "0      crab_sky001.fits  83.594197   21.410309          1   yes\n",
       "1      crab_sky002.fits  81.112909   21.824453          1   yes\n",
       "2      crab_sky003.fits   0.000000    0.000000          0    no\n",
       "3      crab_sky004.fits  85.779273   23.729835          3   yes\n",
       "4      crab_sky004.fits  82.622388   23.012836          3   yes\n",
       "...                 ...        ...         ...        ...   ...\n",
       "1245   crab_sky996.fits   0.000000    0.000000          0    no\n",
       "1246   crab_sky997.fits   0.000000    0.000000          0    no\n",
       "1247   crab_sky998.fits   0.000000    0.000000          0    no\n",
       "1248   crab_sky999.fits   0.000000    0.000000          0    no\n",
       "1249  crab_sky1000.fits   0.000000    0.000000          0    no\n",
       "\n",
       "[1250 rows x 5 columns]"
      ]
     },
     "execution_count": 21,
     "metadata": {},
     "output_type": "execute_result"
    }
   ],
   "source": [
    "df"
   ]
  }
 ],
 "metadata": {
  "celltoolbar": "Slideshow",
  "kernelspec": {
   "display_name": "cta_simulation",
   "language": "python",
   "name": "cta_simulation"
  },
  "language_info": {
   "codemirror_mode": {
    "name": "ipython",
    "version": 3
   },
   "file_extension": ".py",
   "mimetype": "text/x-python",
   "name": "python",
   "nbconvert_exporter": "python",
   "pygments_lexer": "ipython3",
   "version": "3.7.7"
  },
  "rise": {
   "center": false,
   "font-size-adjust": "0.58",
   "height": "90%",
   "theme": "moon",
   "transition": "fade",
   "width": "90%"
  },
  "toc": {
   "base_numbering": 1,
   "nav_menu": {},
   "number_sections": true,
   "sideBar": true,
   "skip_h1_title": false,
   "title_cell": "Table of Contents",
   "title_sidebar": "Contents",
   "toc_cell": false,
   "toc_position": {
    "height": "calc(100% - 180px)",
    "left": "10px",
    "top": "150px",
    "width": "256px"
   },
   "toc_section_display": true,
   "toc_window_display": false
  }
 },
 "nbformat": 4,
 "nbformat_minor": 5
}
